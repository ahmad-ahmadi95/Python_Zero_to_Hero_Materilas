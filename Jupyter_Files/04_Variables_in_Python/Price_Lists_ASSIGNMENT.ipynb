{
 "cells": [
  {
   "cell_type": "markdown",
   "id": "fe635111",
   "metadata": {},
   "source": [
    "## • Price Lists Assignment\n",
    "Hi again!\n",
    "\n",
    "In this Jupyter's file, there is our previous intern's attempt to create proper variables for list of prices in **2023**, **2022**, and **2021**. \n",
    "\n",
    "These variables have been created by our <i style=\"color:#6A82FB;\">previous intern</i>. he didn't know about the [Python variable naming rules](https://www.izlearn.ir/lessons/python-zero-to-hero-variable-naming-ruls-in-python-s04-e09/). I think now by these sessions that we had, <span style=\"color:#6A82FB;\">you're able to fix them and make them work properly!</span> By the way thank you for your help on the **adding tax** code you've done amazing! 🙂\n",
    "\n",
    "\n",
    "Good Luck 🙂✌🏼"
   ]
  },
  {
   "cell_type": "code",
   "execution_count": null,
   "id": "e556991b",
   "metadata": {},
   "outputs": [],
   "source": [
    "# 1. Our previous intern's comment → I picked this variable name, but it produces an error!\n",
    "\n",
    "2021_price_list = \"[4.5, 8.5, 17.99, 23]\""
   ]
  },
  {
   "cell_type": "markdown",
   "id": "d3557d99",
   "metadata": {},
   "source": [
    "**• The Correct Form** 👇🏼"
   ]
  },
  {
   "cell_type": "code",
   "execution_count": null,
   "id": "c01b606a",
   "metadata": {},
   "outputs": [],
   "source": [
    "# You start here\n",
    "\n"
   ]
  },
  {
   "cell_type": "code",
   "execution_count": null,
   "id": "555a14eb",
   "metadata": {},
   "outputs": [],
   "source": [
    "# 2. Our previous intern's comment → I just followed the rules, I separated each words by undersocres!\n",
    "# 2.1. Our previous intern's comment → Again it doesn't work! I got nervous.\n",
    "\n",
    "price_list-2022 = [5, 7.23, 14, 25]"
   ]
  },
  {
   "cell_type": "markdown",
   "id": "96fb0bf1",
   "metadata": {},
   "source": [
    "**• The Correct Form** 👇🏼"
   ]
  },
  {
   "cell_type": "code",
   "execution_count": null,
   "id": "9d9c47d0",
   "metadata": {},
   "outputs": [],
   "source": [
    "# You start here\n",
    "\n"
   ]
  },
  {
   "cell_type": "code",
   "execution_count": null,
   "id": "1bef7edf",
   "metadata": {},
   "outputs": [],
   "source": [
    "# 3. Our previous interns't comment → Yoooo!! Finally I did it :) Python is so cool. \n",
    "# 3.1. This is the prices list for 2023\n",
    "\n",
    "list = [6.6, 8.3, 12.5, 30]"
   ]
  },
  {
   "cell_type": "markdown",
   "id": "cc20716e",
   "metadata": {},
   "source": [
    "**• The Correct Form** 👇🏼 "
   ]
  },
  {
   "cell_type": "code",
   "execution_count": null,
   "id": "5b319ceb",
   "metadata": {},
   "outputs": [],
   "source": [
    "# You start here\n",
    "\n"
   ]
  },
  {
   "cell_type": "markdown",
   "id": "76bf3b53",
   "metadata": {},
   "source": [
    "**• Finally Show All Defined Variables** 👇🏼 "
   ]
  },
  {
   "cell_type": "code",
   "execution_count": null,
   "id": "55d396c4",
   "metadata": {},
   "outputs": [],
   "source": [
    "# 4. Use a proper magic command to show all defined varaibles with extra information\n",
    "\n",
    "# You start here\n"
   ]
  },
  {
   "cell_type": "markdown",
   "id": "abbfe7df",
   "metadata": {},
   "source": [
    "---\n",
    "<a name=\"end\"></a>\n",
    "### Congrats! \n",
    "\n",
    "🔥 Let's go to the next session.\n",
    "\n",
    "📝 This Jupyter notebook has been created by [Ahmad Ahmadi](https://www.linkedin.com/in/ahmad-ahmadi95/). Please follow me and [izlearn](https://www.linkedin.com/company/izlearn) on LinkedIn social media.  \n",
    "\n",
    "🌐 Visit your website for more courses [izlearn.ir](https://izlearn.ir)"
   ]
  }
 ],
 "metadata": {
  "kernelspec": {
   "display_name": "Python 3 (ipykernel)",
   "language": "python",
   "name": "python3"
  },
  "language_info": {
   "codemirror_mode": {
    "name": "ipython",
    "version": 3
   },
   "file_extension": ".py",
   "mimetype": "text/x-python",
   "name": "python",
   "nbconvert_exporter": "python",
   "pygments_lexer": "ipython3",
   "version": "3.9.5"
  }
 },
 "nbformat": 4,
 "nbformat_minor": 5
}
