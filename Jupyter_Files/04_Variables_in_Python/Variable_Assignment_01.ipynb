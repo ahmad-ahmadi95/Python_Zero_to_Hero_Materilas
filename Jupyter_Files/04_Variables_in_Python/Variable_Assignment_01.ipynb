{
 "cells": [
  {
   "cell_type": "markdown",
   "id": "27b60f6a",
   "metadata": {},
   "source": [
    "#### • Table of contents\n",
    "\n",
    "1. [Variables](#1)\n",
    "2. [More Info (Follow Me on LinkedIn)](#end)\n",
    "---"
   ]
  },
  {
   "cell_type": "markdown",
   "id": "f75c0edc",
   "metadata": {},
   "source": [
    "<a name=\"1\"></a>\n",
    "## ✔️ Variables\n",
    "\n",
    "- **Variables** are simply containers for storing values.\n",
    "\n",
    "- To read more about variables in Python, check [this resource](https://www.w3schools.com/python/python_variables.asp)."
   ]
  },
  {
   "cell_type": "code",
   "execution_count": 1,
   "id": "499a2353",
   "metadata": {},
   "outputs": [],
   "source": [
    "# 1. Create a \"price\" variable, assing \"15\" to it\n",
    "\n",
    "price = 15"
   ]
  },
  {
   "cell_type": "code",
   "execution_count": 2,
   "id": "6cdbc043",
   "metadata": {},
   "outputs": [
    {
     "data": {
      "text/plain": [
       "2474686835440"
      ]
     },
     "execution_count": 2,
     "metadata": {},
     "output_type": "execute_result"
    }
   ],
   "source": [
    "# 2. Use the id( ) function to show where \"price\" saved in the memory\n",
    "\n",
    "id(price)"
   ]
  },
  {
   "cell_type": "code",
   "execution_count": 3,
   "id": "ee584f63",
   "metadata": {},
   "outputs": [
    {
     "data": {
      "text/plain": [
       "15"
      ]
     },
     "execution_count": 3,
     "metadata": {},
     "output_type": "execute_result"
    }
   ],
   "source": [
    "# 3. Return the value without printing it\n",
    "\n",
    "price"
   ]
  },
  {
   "cell_type": "code",
   "execution_count": 4,
   "id": "7e4cfe45",
   "metadata": {},
   "outputs": [
    {
     "name": "stdout",
     "output_type": "stream",
     "text": [
      "15\n"
     ]
    }
   ],
   "source": [
    "# 4. Show the price value using its label and print() function \n",
    "\n",
    "print(price)"
   ]
  },
  {
   "cell_type": "code",
   "execution_count": 5,
   "id": "cfdfe1f6",
   "metadata": {},
   "outputs": [
    {
     "name": "stdout",
     "output_type": "stream",
     "text": [
      "20\n"
     ]
    }
   ],
   "source": [
    "# 5. Add \"5\" as a hard-coded value to the \"price\", then print it\n",
    "\n",
    "print(price + 5)"
   ]
  },
  {
   "cell_type": "code",
   "execution_count": 7,
   "id": "35caf538",
   "metadata": {},
   "outputs": [
    {
     "name": "stdout",
     "output_type": "stream",
     "text": [
      "22\n"
     ]
    }
   ],
   "source": [
    "# 6. Assume \"5\" is tax amount and can be changed\n",
    "# 6.1. Create a proper variable and assign \"5\" to it\n",
    "# 6.2. Add tax amount to the \"price\" and print the result\n",
    "\n",
    "tax = 5\n",
    "print(price + tax)"
   ]
  },
  {
   "cell_type": "code",
   "execution_count": 8,
   "id": "0225acae",
   "metadata": {},
   "outputs": [
    {
     "name": "stdout",
     "output_type": "stream",
     "text": [
      "20\n"
     ]
    }
   ],
   "source": [
    "# 7. Repeat the previous process\n",
    "# 7.1. But create a new variable for storing \"price\" + \"tax\"\n",
    "# 7.2. Print the result\n",
    "\n",
    "tax = 5\n",
    "total_price = price + tax\n",
    "\n",
    "print(total_price)"
   ]
  },
  {
   "cell_type": "code",
   "execution_count": 9,
   "id": "e5fa90f6",
   "metadata": {},
   "outputs": [
    {
     "data": {
      "text/plain": [
       "('Black Shoes', str)"
      ]
     },
     "execution_count": 9,
     "metadata": {},
     "output_type": "execute_result"
    }
   ],
   "source": [
    "# 8. Create a \"product_name\" variable and store \"Black Shoes\" in there\n",
    "# 8.1 Show its value & its type\n",
    "\n",
    "product_name = \"Black Shoes\"\n",
    "\n",
    "product_name, type(product_name)"
   ]
  },
  {
   "cell_type": "code",
   "execution_count": 10,
   "id": "b905de3b",
   "metadata": {},
   "outputs": [
    {
     "data": {
      "text/plain": [
       "list"
      ]
     },
     "execution_count": 10,
     "metadata": {},
     "output_type": "execute_result"
    }
   ],
   "source": [
    "# 9. Create a \"price_list\" variable, containing some values\n",
    "# 9.1. Create a variable to store the list type\n",
    "# 9.2. Print the result\n",
    "\n",
    "price_list = [3.5, 5, 'free', 15]\n",
    "type_price_list = type(price_list)\n",
    "\n",
    "type_price_list"
   ]
  },
  {
   "cell_type": "code",
   "execution_count": 11,
   "id": "ec07e62a",
   "metadata": {},
   "outputs": [
    {
     "name": "stdout",
     "output_type": "stream",
     "text": [
      "<class 'list'>\n"
     ]
    }
   ],
   "source": [
    "# 9.3. Do it in one line:\n",
    "\n",
    "print(type(price_list))"
   ]
  },
  {
   "cell_type": "markdown",
   "id": "071014fc",
   "metadata": {},
   "source": [
    "---\n",
    "<a name=\"end\"></a>\n",
    "### Congrats! \n",
    "\n",
    "🔥 Let's go to the next session.\n",
    "\n",
    "📝 This Jupyter notebook has been created by [Ahmad Ahmadi](https://www.linkedin.com/in/ahmad-ahmadi95/). Please follow me and [izlearn](https://www.linkedin.com/company/izlearn) on LinkedIn social media.  \n",
    "\n",
    "🌐 Visit your website for more courses [izlearn.ir](https://izlearn.ir)"
   ]
  }
 ],
 "metadata": {
  "kernelspec": {
   "display_name": "Python 3 (ipykernel)",
   "language": "python",
   "name": "python3"
  },
  "language_info": {
   "codemirror_mode": {
    "name": "ipython",
    "version": 3
   },
   "file_extension": ".py",
   "mimetype": "text/x-python",
   "name": "python",
   "nbconvert_exporter": "python",
   "pygments_lexer": "ipython3",
   "version": "3.9.5"
  }
 },
 "nbformat": 4,
 "nbformat_minor": 5
}
