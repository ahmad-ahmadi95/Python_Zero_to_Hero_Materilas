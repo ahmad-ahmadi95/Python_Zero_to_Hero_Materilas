{
 "cells": [
  {
   "cell_type": "markdown",
   "id": "68751870",
   "metadata": {},
   "source": [
    "#### • Table of the content\n",
    "\n",
    "1. [Tracking Variables](#1)\n",
    "2. [Variable Naming Rules](#2)\n",
    "3. [Reserved Python Keyword As a Variable Name](#3)\n",
    "4. [More Info (Follow Me on LinkedIn)](#end)\n",
    "---"
   ]
  },
  {
   "cell_type": "markdown",
   "id": "e96d32ed",
   "metadata": {},
   "source": [
    "<a name='1'></a>\n",
    "## Tracking Variables\n",
    "\n",
    "🔸 For keeping track of variables in <span style=\"color:blue;\">Jupyter Notebook</span> and <span style=\"color:blue;\">Google Colab</span> environment, there are two options available; \n",
    "\n",
    "```python\n",
    "1. %who \n",
    "2. %whos\n",
    "```\n",
    "\n",
    "<div class=\"alert alert-info\">\n",
    "    <b>🔸 In Jupyter Notebook:</b>\n",
    "    <br>\n",
    "    We may use some commands starting with <b>percent sign(%)</b>, these commands are called <u>magic commands</u>. These     commands work in IPython environment. (Jupyter Notebook and Google Colab)\n",
    "</div>"
   ]
  },
  {
   "cell_type": "code",
   "execution_count": 1,
   "id": "131de92c",
   "metadata": {},
   "outputs": [
    {
     "data": {
      "application/json": {
       "cell": {
        "!": "OSMagics",
        "HTML": "Other",
        "SVG": "Other",
        "bash": "Other",
        "capture": "ExecutionMagics",
        "cmd": "Other",
        "code_wrap": "ExecutionMagics",
        "debug": "ExecutionMagics",
        "file": "Other",
        "html": "DisplayMagics",
        "javascript": "DisplayMagics",
        "js": "DisplayMagics",
        "latex": "DisplayMagics",
        "markdown": "DisplayMagics",
        "perl": "Other",
        "prun": "ExecutionMagics",
        "pypy": "Other",
        "python": "Other",
        "python2": "Other",
        "python3": "Other",
        "ruby": "Other",
        "script": "ScriptMagics",
        "sh": "Other",
        "svg": "DisplayMagics",
        "sx": "OSMagics",
        "system": "OSMagics",
        "time": "ExecutionMagics",
        "timeit": "ExecutionMagics",
        "writefile": "OSMagics"
       },
       "line": {
        "alias": "OSMagics",
        "alias_magic": "BasicMagics",
        "autoawait": "AsyncMagics",
        "autocall": "AutoMagics",
        "automagic": "AutoMagics",
        "autosave": "KernelMagics",
        "bookmark": "OSMagics",
        "cd": "OSMagics",
        "clear": "KernelMagics",
        "cls": "KernelMagics",
        "code_wrap": "ExecutionMagics",
        "colors": "BasicMagics",
        "conda": "PackagingMagics",
        "config": "ConfigMagics",
        "connect_info": "KernelMagics",
        "copy": "Other",
        "ddir": "Other",
        "debug": "ExecutionMagics",
        "dhist": "OSMagics",
        "dirs": "OSMagics",
        "doctest_mode": "BasicMagics",
        "echo": "Other",
        "ed": "Other",
        "edit": "KernelMagics",
        "env": "OSMagics",
        "gui": "BasicMagics",
        "hist": "Other",
        "history": "HistoryMagics",
        "killbgscripts": "ScriptMagics",
        "ldir": "Other",
        "less": "KernelMagics",
        "load": "CodeMagics",
        "load_ext": "ExtensionMagics",
        "loadpy": "CodeMagics",
        "logoff": "LoggingMagics",
        "logon": "LoggingMagics",
        "logstart": "LoggingMagics",
        "logstate": "LoggingMagics",
        "logstop": "LoggingMagics",
        "ls": "Other",
        "lsmagic": "BasicMagics",
        "macro": "ExecutionMagics",
        "magic": "BasicMagics",
        "matplotlib": "PylabMagics",
        "mkdir": "Other",
        "more": "KernelMagics",
        "notebook": "BasicMagics",
        "page": "BasicMagics",
        "pastebin": "CodeMagics",
        "pdb": "ExecutionMagics",
        "pdef": "NamespaceMagics",
        "pdoc": "NamespaceMagics",
        "pfile": "NamespaceMagics",
        "pinfo": "NamespaceMagics",
        "pinfo2": "NamespaceMagics",
        "pip": "PackagingMagics",
        "popd": "OSMagics",
        "pprint": "BasicMagics",
        "precision": "BasicMagics",
        "prun": "ExecutionMagics",
        "psearch": "NamespaceMagics",
        "psource": "NamespaceMagics",
        "pushd": "OSMagics",
        "pwd": "OSMagics",
        "pycat": "OSMagics",
        "pylab": "PylabMagics",
        "qtconsole": "KernelMagics",
        "quickref": "BasicMagics",
        "recall": "HistoryMagics",
        "rehashx": "OSMagics",
        "reload_ext": "ExtensionMagics",
        "ren": "Other",
        "rep": "Other",
        "rerun": "HistoryMagics",
        "reset": "NamespaceMagics",
        "reset_selective": "NamespaceMagics",
        "rmdir": "Other",
        "run": "ExecutionMagics",
        "save": "CodeMagics",
        "sc": "OSMagics",
        "set_env": "OSMagics",
        "store": "StoreMagics",
        "sx": "OSMagics",
        "system": "OSMagics",
        "tb": "ExecutionMagics",
        "time": "ExecutionMagics",
        "timeit": "ExecutionMagics",
        "unalias": "OSMagics",
        "unload_ext": "ExtensionMagics",
        "who": "NamespaceMagics",
        "who_ls": "NamespaceMagics",
        "whos": "NamespaceMagics",
        "xdel": "NamespaceMagics",
        "xmode": "BasicMagics"
       }
      },
      "text/plain": [
       "Available line magics:\n",
       "%alias  %alias_magic  %autoawait  %autocall  %automagic  %autosave  %bookmark  %cd  %clear  %cls  %code_wrap  %colors  %conda  %config  %connect_info  %copy  %ddir  %debug  %dhist  %dirs  %doctest_mode  %echo  %ed  %edit  %env  %gui  %hist  %history  %killbgscripts  %ldir  %less  %load  %load_ext  %loadpy  %logoff  %logon  %logstart  %logstate  %logstop  %ls  %lsmagic  %macro  %magic  %matplotlib  %mkdir  %more  %notebook  %page  %pastebin  %pdb  %pdef  %pdoc  %pfile  %pinfo  %pinfo2  %pip  %popd  %pprint  %precision  %prun  %psearch  %psource  %pushd  %pwd  %pycat  %pylab  %qtconsole  %quickref  %recall  %rehashx  %reload_ext  %ren  %rep  %rerun  %reset  %reset_selective  %rmdir  %run  %save  %sc  %set_env  %store  %sx  %system  %tb  %time  %timeit  %unalias  %unload_ext  %who  %who_ls  %whos  %xdel  %xmode\n",
       "\n",
       "Available cell magics:\n",
       "%%!  %%HTML  %%SVG  %%bash  %%capture  %%cmd  %%code_wrap  %%debug  %%file  %%html  %%javascript  %%js  %%latex  %%markdown  %%perl  %%prun  %%pypy  %%python  %%python2  %%python3  %%ruby  %%script  %%sh  %%svg  %%sx  %%system  %%time  %%timeit  %%writefile\n",
       "\n",
       "Automagic is ON, % prefix IS NOT needed for line magics."
      ]
     },
     "execution_count": 1,
     "metadata": {},
     "output_type": "execute_result"
    }
   ],
   "source": [
    "# 1. Use (%lsmagic) to show all available magic commands:\n",
    "%lsmagic"
   ]
  },
  {
   "cell_type": "code",
   "execution_count": 2,
   "id": "d0ece318",
   "metadata": {},
   "outputs": [],
   "source": [
    "# 2. Run the cell to define the variables\n",
    "price = 49\n",
    "product_name = 'Black Boots'\n",
    "date = '10-June-2023'"
   ]
  },
  {
   "cell_type": "code",
   "execution_count": 3,
   "id": "251c8b24",
   "metadata": {},
   "outputs": [
    {
     "name": "stdout",
     "output_type": "stream",
     "text": [
      "date\t price\t product_name\t \n"
     ]
    }
   ],
   "source": [
    "# 3. Use \"%who\", magic command, to see all variable names defined in the Jupyter file\n",
    "\n",
    "%who"
   ]
  },
  {
   "cell_type": "code",
   "execution_count": 4,
   "id": "712a5dd6",
   "metadata": {},
   "outputs": [
    {
     "name": "stdout",
     "output_type": "stream",
     "text": [
      "Variable       Type    Data/Info\n",
      "--------------------------------\n",
      "date           str     10-June-2023\n",
      "price          int     49\n",
      "product_name   str     Black Boots\n"
     ]
    }
   ],
   "source": [
    "# 4. Use \"%whos\", magic command, to see all variable names and some additional information\n",
    "\n",
    "%whos"
   ]
  },
  {
   "cell_type": "code",
   "execution_count": 5,
   "id": "9733ae9a",
   "metadata": {},
   "outputs": [
    {
     "name": "stdout",
     "output_type": "stream",
     "text": [
      "Variable       Type    Data/Info\n",
      "--------------------------------\n",
      "price          int     49\n",
      "product_name   str     Black Boots\n"
     ]
    }
   ],
   "source": [
    "# 5. Restart the Kernel or use \"del\" keyword to delete \"date\"\n",
    "# 5.1 Then use %whos to get the information\n",
    "\n",
    "# 5.2 Use \"del\" command (start here)\n",
    "del date\n",
    "\n",
    "# 5.3 Use \"%whos\"(start here)\n",
    "%whos"
   ]
  },
  {
   "cell_type": "markdown",
   "id": "8f6de4ed",
   "metadata": {},
   "source": [
    "---\n",
    "<a name=\"2\"></a>\n",
    "## Variable Naming Rules\n",
    "\n",
    "🔸 For naming variables you should consider the following rules:\n",
    "\n",
    "🟢 <span style=\"color:green;\">Variable Names Can:</span>\n",
    "\n",
    "1. Contain letters\n",
    "2. Contain numbers\n",
    "3. Contain underscores\n",
    "4. Beging with a letter or undersore\n",
    "\n",
    "🔴 <span style=\"color:red;\">Variable Names Can NOT:</span>\n",
    "\n",
    "1. Starts with a number\n",
    "2. Contain space or other special characters i.e. (`%`, `@`, `!`, `-`, etc.)\n",
    "3. Be reserved Python keywords i.e. list, if, else and etc.\n",
    "\n",
    "🔸 You can use <span style=\"color:blue;\">help(\"keywords\")</span> to get the list of reserved names in Python"
   ]
  },
  {
   "cell_type": "code",
   "execution_count": 6,
   "id": "c9859fbc",
   "metadata": {},
   "outputs": [
    {
     "data": {
      "text/plain": [
       "['Black Cap', 'Black Jeans']"
      ]
     },
     "execution_count": 6,
     "metadata": {},
     "output_type": "execute_result"
    }
   ],
   "source": [
    "# 6. An example of correct variable name in Python\n",
    "my_cart = ['Black Cap', 'Black Jeans']\n",
    "\n",
    "my_cart"
   ]
  },
  {
   "cell_type": "code",
   "execution_count": 7,
   "id": "47519e8d",
   "metadata": {
    "scrolled": true
   },
   "outputs": [
    {
     "ename": "SyntaxError",
     "evalue": "invalid syntax (283947219.py, line 2)",
     "output_type": "error",
     "traceback": [
      "\u001b[1;36m  Cell \u001b[1;32mIn[7], line 2\u001b[1;36m\u001b[0m\n\u001b[1;33m    2my_cart= ['Black Cap']\u001b[0m\n\u001b[1;37m     ^\u001b[0m\n\u001b[1;31mSyntaxError\u001b[0m\u001b[1;31m:\u001b[0m invalid syntax\n"
     ]
    }
   ],
   "source": [
    "# 7. Your variable name shouldn't start with numbers\n",
    "2my_cart= ['Black Cap']\n",
    "\n",
    "2my_cart    "
   ]
  },
  {
   "cell_type": "code",
   "execution_count": 8,
   "id": "1b732964",
   "metadata": {},
   "outputs": [
    {
     "ename": "SyntaxError",
     "evalue": "invalid syntax (3923655343.py, line 3)",
     "output_type": "error",
     "traceback": [
      "\u001b[1;36m  Cell \u001b[1;32mIn[8], line 3\u001b[1;36m\u001b[0m\n\u001b[1;33m    my cart = ['Black Cap']\u001b[0m\n\u001b[1;37m       ^\u001b[0m\n\u001b[1;31mSyntaxError\u001b[0m\u001b[1;31m:\u001b[0m invalid syntax\n"
     ]
    }
   ],
   "source": [
    "# 8. Your variable name shouldn't have \"space\" character or \"special\" characters\n",
    "# special characters -> ! @ # % ^ & * ( ) - + / ? | \\ \n",
    "my cart = ['Black Cap']\n",
    "\n",
    "my cart"
   ]
  },
  {
   "cell_type": "code",
   "execution_count": 9,
   "id": "af56ecdc",
   "metadata": {},
   "outputs": [
    {
     "name": "stdout",
     "output_type": "stream",
     "text": [
      "[1, 2, 3] Ahmad_Ahmadi95\n"
     ]
    }
   ],
   "source": [
    "# It's recommended to use snake_case style to name your variables. \n",
    "# snake_case => all letters in lowercase + underscore\n",
    "my_list = [1, 2, 3]\n",
    "user_name = 'Ahmad_Ahmadi95'\n",
    "\n",
    "print(my_list, user_name)"
   ]
  },
  {
   "cell_type": "markdown",
   "id": "c42f3b00",
   "metadata": {},
   "source": [
    "<a name=\"3\"></a>\n",
    "## Reserved Python Keyword As a Variable Name\n",
    "\n",
    "🔸 What will happen if I use a reserved Python keyword as a variable name?"
   ]
  },
  {
   "cell_type": "code",
   "execution_count": 11,
   "id": "22e505bd",
   "metadata": {},
   "outputs": [
    {
     "ename": "TypeError",
     "evalue": "'str' object is not callable",
     "output_type": "error",
     "traceback": [
      "\u001b[1;31m----------------------------------------------------------------\u001b[0m",
      "\u001b[1;31mTypeError\u001b[0m                      Traceback (most recent call last)",
      "Cell \u001b[1;32mIn[11], line 8\u001b[0m\n\u001b[0;32m      5\u001b[0m tax \u001b[38;5;241m=\u001b[39m \u001b[38;5;241m5\u001b[39m\n\u001b[0;32m      7\u001b[0m \u001b[38;5;66;03m# 9.3 Call the print function with \"tax\"\u001b[39;00m\n\u001b[1;32m----> 8\u001b[0m \u001b[38;5;28;43mprint\u001b[39;49m\u001b[43m(\u001b[49m\u001b[43mtax\u001b[49m\u001b[43m)\u001b[49m\n",
      "\u001b[1;31mTypeError\u001b[0m: 'str' object is not callable"
     ]
    }
   ],
   "source": [
    "# 9. Your variable name shouldn't be Python's reserved keyword\n",
    "# 9.1 Assign the string below \"print\" variable\n",
    "# 9.2 Call the \"print()\" funciton with \"tax\" as its argument --> What do you get? \n",
    "print = 'You should not do this'\n",
    "tax = 5\n",
    "\n",
    "# 9.3 Call the print function with \"tax\"\n",
    "print(tax)"
   ]
  },
  {
   "cell_type": "code",
   "execution_count": 12,
   "id": "aa8c4fc6",
   "metadata": {},
   "outputs": [
    {
     "name": "stdout",
     "output_type": "stream",
     "text": [
      "\n",
      "Here is a list of the Python keywords.  Enter any keyword to get more help.\n",
      "\n",
      "False               break               for                 not\n",
      "None                class               from                or\n",
      "True                continue            global              pass\n",
      "__peg_parser__      def                 if                  raise\n",
      "and                 del                 import              return\n",
      "as                  elif                in                  try\n",
      "assert              else                is                  while\n",
      "async               except              lambda              with\n",
      "await               finally             nonlocal            yield\n",
      "\n"
     ]
    }
   ],
   "source": [
    "# 10. Use help('keywords') to see all Python keywrods list\n",
    "help('keywords')"
   ]
  },
  {
   "cell_type": "markdown",
   "id": "1d4b5bc9",
   "metadata": {},
   "source": [
    "---\n",
    "<a name=\"end\"></a>\n",
    "### Congrats! \n",
    "\n",
    "🔥 Let's go to the next session.\n",
    "\n",
    "📝 This Jupyter notebook has been created by [Ahmad Ahmadi](https://www.linkedin.com/in/ahmad-ahmadi95/). Please follow me and [izlearn](https://www.linkedin.com/company/izlearn) on LinkedIn social media.  \n",
    "\n",
    "🌐 Visit your website for more courses [izlearn.ir](https://izlearn.ir)"
   ]
  }
 ],
 "metadata": {
  "kernelspec": {
   "display_name": "Python 3 (ipykernel)",
   "language": "python",
   "name": "python3"
  },
  "language_info": {
   "codemirror_mode": {
    "name": "ipython",
    "version": 3
   },
   "file_extension": ".py",
   "mimetype": "text/x-python",
   "name": "python",
   "nbconvert_exporter": "python",
   "pygments_lexer": "ipython3",
   "version": "3.9.5"
  }
 },
 "nbformat": 4,
 "nbformat_minor": 5
}
