{
 "cells": [
  {
   "cell_type": "markdown",
   "id": "b7551b16",
   "metadata": {},
   "source": [
    "## • Adding Tax in Euro To The Code\n",
    "\n",
    "As your first task, I want you to change the current code that adds a **euro in tax** to our price before printing it. \n",
    "\n",
    "**° Steps To Take**\n",
    "\n",
    "1. Create a `tax` variable and assign it a value of **1.5**\n",
    "2. Create a `total` variable equals to **price + tax**\n",
    "3. Print `total`"
   ]
  },
  {
   "cell_type": "code",
   "execution_count": 5,
   "id": "b644bb98",
   "metadata": {},
   "outputs": [
    {
     "name": "stdout",
     "output_type": "stream",
     "text": [
      "10\n"
     ]
    }
   ],
   "source": [
    "# 1. You start here:\n",
    "\n",
    "price = 5\n",
    "tax = 5\n",
    "total = price + tax\n",
    "\n",
    "print(total)"
   ]
  },
  {
   "cell_type": "markdown",
   "id": "170d275e",
   "metadata": {},
   "source": [
    "---\n",
    "<a name=\"end\"></a>\n",
    "### Congrats! \n",
    "\n",
    "🔥 Let's go to the next session.\n",
    "\n",
    "📝 This Jupyter notebook has been created by [Ahmad Ahmadi](https://www.linkedin.com/in/ahmad-ahmadi95/). Please follow me and [izlearn](https://www.linkedin.com/company/izlearn) on LinkedIn social media.  \n",
    "\n",
    "🌐 Visit your website for more courses [izlearn.ir](https://izlearn.ir)"
   ]
  }
 ],
 "metadata": {
  "kernelspec": {
   "display_name": "Python 3 (ipykernel)",
   "language": "python",
   "name": "python3"
  },
  "language_info": {
   "codemirror_mode": {
    "name": "ipython",
    "version": 3
   },
   "file_extension": ".py",
   "mimetype": "text/x-python",
   "name": "python",
   "nbconvert_exporter": "python",
   "pygments_lexer": "ipython3",
   "version": "3.9.5"
  }
 },
 "nbformat": 4,
 "nbformat_minor": 5
}
