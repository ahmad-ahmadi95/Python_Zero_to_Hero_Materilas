{
 "cells": [
  {
   "cell_type": "markdown",
   "id": "44ed18d4",
   "metadata": {},
   "source": [
    "#### • Table of the content\n",
    "\n",
    "1. [Overwriting Variables](#1)\n",
    "    1. [Assigning a Variable to Another Variable](#1-1)\n",
    "2. [Deleting Variables](#2)\n",
    "    1. [Deleting Objects](#2-1)\n",
    "3. [More Info (Follow Me on LinkedIn)](#end)\n",
    "---"
   ]
  },
  {
   "cell_type": "markdown",
   "id": "bdb0071f",
   "metadata": {},
   "source": [
    "<a name=\"1\"></a>\n",
    "## Overwriting Variables\n",
    "\n",
    "🔸 Overwriting variables means to <i style=\"color:blue\">delete the current value and assign a new value</i> to the variable in programming. In some sources this is called **reassigning variable**. "
   ]
  },
  {
   "cell_type": "code",
   "execution_count": 1,
   "id": "4ab4b58e",
   "metadata": {},
   "outputs": [
    {
     "name": "stdout",
     "output_type": "stream",
     "text": [
      "10\n"
     ]
    }
   ],
   "source": [
    "# 1. Let's start here\n",
    "black_cap_inventory = 30\n",
    "\n",
    "# 1.1. The next day we sell \"15\" of them (30 - 15 = 15)\n",
    "black_cap_inventory = 15\n",
    "\n",
    "# 1.2. The next day we sell \"5\" of them (15 - 5 = 10)\n",
    "black_cap_inventory = 10\n",
    "\n",
    "print(black_cap_inventory)"
   ]
  },
  {
   "cell_type": "markdown",
   "id": "ad5f4eca",
   "metadata": {},
   "source": [
    "---\n",
    "🔸 **But what if** I don't want to lose my previous values! then you need to store them in a **separate** variables."
   ]
  },
  {
   "cell_type": "code",
   "execution_count": 2,
   "id": "7d1d3c22",
   "metadata": {},
   "outputs": [
    {
     "name": "stdout",
     "output_type": "stream",
     "text": [
      "30 10\n"
     ]
    }
   ],
   "source": [
    "# 2. We need to have the initial value for \"black_cap_inventory\"\n",
    "# 2.1. Use (old_something) & (new_something) to preventing value loss (old=30, new=10)\n",
    "old_black_cap_inventory = 30\n",
    "new_black_cap_inventory = 10\n",
    "\n",
    "# 2.2. Print the both variables\n",
    "print(old_black_cap_inventory, new_black_cap_inventory)"
   ]
  },
  {
   "cell_type": "markdown",
   "id": "f687a606",
   "metadata": {},
   "source": [
    "<a name=\"1-1\"></a>\n",
    "### Assigning a Variable to Another Variable\n",
    "\n",
    "🔸 In Python it's possible to assigned variables as values to other variables. **Note**: the stored value is assigned, but <u>there is no connection</u> between the variables. "
   ]
  },
  {
   "cell_type": "code",
   "execution_count": 3,
   "id": "778b39a7",
   "metadata": {},
   "outputs": [
    {
     "name": "stdout",
     "output_type": "stream",
     "text": [
      "100 30\n"
     ]
    }
   ],
   "source": [
    "# 3. Assign a variable to another variable\n",
    "old_black_cap_inventory = 30\n",
    "new_black_cap_inventory = 10\n",
    "\n",
    "# 3.1. Assign (old_black_cap_inventory) to (new_black_cap_inventory) \n",
    "# NOTE: in this way, there is no connection between these two variables\n",
    "new_black_cap_inventory = old_black_cap_inventory\n",
    "\n",
    "# 3.2. Change (old_black_cap_inventory) to 100\n",
    "old_black_cap_inventory = 100\n",
    "\n",
    "# 3.3. Print the both variables\n",
    "print(old_black_cap_inventory, new_black_cap_inventory)"
   ]
  },
  {
   "cell_type": "markdown",
   "id": "a61ce729",
   "metadata": {},
   "source": [
    "<a name='2'></a>\n",
    "## Deleting Variables\n",
    "\n",
    "🔸 In Python there is a command called [del](https://www.w3schools.com/python/ref_keyword_del.asp#:~:text=Definition%20and%20Usage,parts%20of%20a%20list%20etc.) to delete **variables** and **objects**. Using this command objects and variables are deleted permenently. "
   ]
  },
  {
   "cell_type": "code",
   "execution_count": 4,
   "id": "b5a80bd4",
   "metadata": {},
   "outputs": [],
   "source": [
    "# 4. Suppose that you don't need 'old_black_cap_inventory' anymore!\n",
    "black_cap_inventory = 100\n",
    "\n",
    "# 4.1. Use \"del\" keyword to remove it permanently!\n",
    "del black_cap_inventory"
   ]
  },
  {
   "cell_type": "code",
   "execution_count": 5,
   "id": "3ae3857a",
   "metadata": {},
   "outputs": [
    {
     "ename": "NameError",
     "evalue": "name 'black_cap_inventory' is not defined",
     "output_type": "error",
     "traceback": [
      "\u001b[1;31m---------------------------------------------------------------------------\u001b[0m",
      "\u001b[1;31mNameError\u001b[0m                                 Traceback (most recent call last)",
      "Cell \u001b[1;32mIn[5], line 2\u001b[0m\n\u001b[0;32m      1\u001b[0m \u001b[38;5;66;03m# Show old_black_cap_inventory's value (What did you get?)\u001b[39;00m\n\u001b[1;32m----> 2\u001b[0m \u001b[43mblack_cap_inventory\u001b[49m\n",
      "\u001b[1;31mNameError\u001b[0m: name 'black_cap_inventory' is not defined"
     ]
    }
   ],
   "source": [
    "# Show old_black_cap_inventory's value (What did you get?)\n",
    "black_cap_inventory"
   ]
  },
  {
   "cell_type": "markdown",
   "id": "863d3b05",
   "metadata": {},
   "source": [
    "<div class=\"alert alert-info\">\n",
    "    🔸 <b>NameError</b> in Python : \n",
    "    <br>\n",
    "    <p style=\"color:#3f2b96\">You'll encounter this error when that specific variable or object doesn't exist or is not defined          anymore!\n",
    "    </p>\n",
    "    In the above example; we removed the <b>black_cap_inventory</b> from the machine's memory usgin <i>del</i> keyword. So; the     variable dose not exist anymore.\n",
    "</div>"
   ]
  },
  {
   "cell_type": "markdown",
   "id": "3187a187",
   "metadata": {},
   "source": [
    "<a name=\"2-1\"></a>\n",
    "### Deleting Objects Using del \n",
    "\n",
    "🔸 Using ***del*** keyword in Python you can delete different type of objects."
   ]
  },
  {
   "cell_type": "code",
   "execution_count": 7,
   "id": "753809f8",
   "metadata": {},
   "outputs": [],
   "source": [
    "# 5. Deleting object using \"del\"\n",
    "my_cart = ['Black Jacket',\n",
    "           'Winter Coat',\n",
    "           'Green Sweatshirt']"
   ]
  },
  {
   "cell_type": "code",
   "execution_count": 8,
   "id": "3750653c",
   "metadata": {},
   "outputs": [
    {
     "data": {
      "text/plain": [
       "['Black Jacket', 'Green Sweatshirt']"
      ]
     },
     "execution_count": 8,
     "metadata": {},
     "output_type": "execute_result"
    }
   ],
   "source": [
    "# 5.1. Delete 'Winter Coat' from the my_cart list using del\n",
    "# NOTE: 'Winter Coat' is a \"str\" objectss\n",
    "del my_cart[1]\n",
    "\n",
    "# 5.2. Result\n",
    "my_cart"
   ]
  },
  {
   "cell_type": "code",
   "execution_count": 9,
   "id": "0662ad34",
   "metadata": {},
   "outputs": [
    {
     "ename": "NameError",
     "evalue": "name 'my_cart' is not defined",
     "output_type": "error",
     "traceback": [
      "\u001b[1;31m---------------------------------------------------------------------------\u001b[0m",
      "\u001b[1;31mNameError\u001b[0m                                 Traceback (most recent call last)",
      "Cell \u001b[1;32mIn[9], line 5\u001b[0m\n\u001b[0;32m      2\u001b[0m \u001b[38;5;28;01mdel\u001b[39;00m my_cart\n\u001b[0;32m      4\u001b[0m \u001b[38;5;66;03m# 5.4. Result\u001b[39;00m\n\u001b[1;32m----> 5\u001b[0m \u001b[43mmy_cart\u001b[49m\n",
      "\u001b[1;31mNameError\u001b[0m: name 'my_cart' is not defined"
     ]
    }
   ],
   "source": [
    "# 5.3. Delete 'my_cart', the whole object' from memory\n",
    "del my_cart\n",
    "\n",
    "# 5.4. Result\n",
    "my_cart"
   ]
  },
  {
   "cell_type": "markdown",
   "id": "374a1bb2",
   "metadata": {},
   "source": [
    "---\n",
    "<a name=\"end\"></a>\n",
    "### Congrats! \n",
    "\n",
    "🔥 Let's go to the next session.\n",
    "\n",
    "📝 This Jupyter notebook has been created by [Ahmad Ahmadi](https://www.linkedin.com/in/ahmad-ahmadi95/). Please follow me and [izlearn](https://www.linkedin.com/company/izlearn) on LinkedIn social media.  \n",
    "\n",
    "🌐 Visit your website for more courses [izlearn.ir](https://izlearn.ir)"
   ]
  }
 ],
 "metadata": {
  "kernelspec": {
   "display_name": "Python 3 (ipykernel)",
   "language": "python",
   "name": "python3"
  },
  "language_info": {
   "codemirror_mode": {
    "name": "ipython",
    "version": 3
   },
   "file_extension": ".py",
   "mimetype": "text/x-python",
   "name": "python",
   "nbconvert_exporter": "python",
   "pygments_lexer": "ipython3",
   "version": "3.9.5"
  }
 },
 "nbformat": 4,
 "nbformat_minor": 5
}
