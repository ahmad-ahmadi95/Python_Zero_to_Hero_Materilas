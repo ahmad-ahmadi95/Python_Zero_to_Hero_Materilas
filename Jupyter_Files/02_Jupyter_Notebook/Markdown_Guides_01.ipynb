{
 "cells": [
  {
   "cell_type": "markdown",
   "id": "87f42f50",
   "metadata": {},
   "source": [
    "# Jupyter Notebook Markdown\n",
    "\n",
    "## Topic : Markdown Basics \n",
    "\n",
    "You can write text to demonstrate the workflow of your code in Jupyter environment. \n",
    "\n",
    "* Extra explanation\n",
    "* Steps of your work\n",
    "* etc\n",
    "\n",
    "To create bulleted lists simply start your line with *.\n",
    "\n",
    "To create numbered lists, start your line with 1., 2., and so on.\n",
    "1. Item (1)\n",
    "2. Item (2)\n",
    "3. Item (3)\n",
    "\n",
    "Markdown has a **lot** of capabilities. The essentials to get started with are:\n",
    "\n",
    "1. Create headers with # ( one is the biggest and six is the smallest header! ) \n",
    "2. **Bold**, *Italic*, ***Bold & Italic*** \n",
    "3. Creating bulleted or numbered lists usinig ( * or 1. at the beginnig of your lines)\n",
    "4. Code highlighting for example : `my_name = \"Ahmad\"` (use backtick not ' or \") \n",
    "\n",
    "To explore more, I highly recommend [this article](https://www.markdownguide.org/basic-syntax/)"
   ]
  }
 ],
 "metadata": {
  "kernelspec": {
   "display_name": "Python 3 (ipykernel)",
   "language": "python",
   "name": "python3"
  },
  "language_info": {
   "codemirror_mode": {
    "name": "ipython",
    "version": 3
   },
   "file_extension": ".py",
   "mimetype": "text/x-python",
   "name": "python",
   "nbconvert_exporter": "python",
   "pygments_lexer": "ipython3",
   "version": "3.9.5"
  },
  "widgets": {
   "application/vnd.jupyter.widget-state+json": {
    "state": {},
    "version_major": 2,
    "version_minor": 0
   }
  }
 },
 "nbformat": 4,
 "nbformat_minor": 5
}
