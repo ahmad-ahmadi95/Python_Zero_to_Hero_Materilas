{
 "cells": [
  {
   "cell_type": "markdown",
   "id": "48870379",
   "metadata": {},
   "source": [
    "## 💡 Commenting & Markdown \n",
    "\n",
    "**Comments** are lines of code that start with **#** (Hash symbol) that *do not run*. \n",
    "\n",
    "**Markdown** cells let you to write your **text** to expalining your workflow in your jupyter notebook.\n",
    "\n",
    "This is [izlearn](https://izlearn.ir) webpage. "
   ]
  },
  {
   "cell_type": "code",
   "execution_count": 1,
   "id": "1211bec4",
   "metadata": {},
   "outputs": [
    {
     "data": {
      "text/plain": [
       "15"
      ]
     },
     "execution_count": 1,
     "metadata": {},
     "output_type": "execute_result"
    }
   ],
   "source": [
    "# Here I just added \"5\" to \"10\" to produce a new value. \n",
    "10 + 5 "
   ]
  },
  {
   "cell_type": "code",
   "execution_count": 3,
   "id": "fe5b12ee",
   "metadata": {},
   "outputs": [],
   "source": [
    "# 10 - 5"
   ]
  },
  {
   "cell_type": "markdown",
   "id": "1a9bb228",
   "metadata": {},
   "source": [
    "---\n",
    "<a name=\"end\"></a>\n",
    "### Congrats! \n",
    "\n",
    "🔥 Let's go to the next session.\n",
    "\n",
    "📝 This Jupyter notebook has been created by [Ahmad Ahmadi](https://www.linkedin.com/in/ahmad-ahmadi95/). Please follow me and [izlearn](https://www.linkedin.com/company/izlearn) on LinkedIn social media.  \n",
    "\n",
    "🌐 Visit your website for more courses [izlearn.ir](https://izlearn.ir)"
   ]
  }
 ],
 "metadata": {
  "kernelspec": {
   "display_name": "Python 3 (ipykernel)",
   "language": "python",
   "name": "python3"
  },
  "language_info": {
   "codemirror_mode": {
    "name": "ipython",
    "version": 3
   },
   "file_extension": ".py",
   "mimetype": "text/x-python",
   "name": "python",
   "nbconvert_exporter": "python",
   "pygments_lexer": "ipython3",
   "version": "3.9.5"
  }
 },
 "nbformat": 4,
 "nbformat_minor": 5
}
