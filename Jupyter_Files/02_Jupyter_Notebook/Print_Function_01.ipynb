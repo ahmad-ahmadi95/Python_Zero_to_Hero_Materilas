{
 "cells": [
  {
   "cell_type": "markdown",
   "id": "1507d0c7",
   "metadata": {},
   "source": [
    "#### • Table of the content\n",
    "\n",
    "1. [Print Function](#1)\n",
    "2. [More Info (Follow Me on LinkedIn)](#end)\n",
    "---"
   ]
  },
  {
   "cell_type": "markdown",
   "id": "df51281f",
   "metadata": {},
   "source": [
    "<a name=\"1\"></a> \n",
    "\n",
    "## ✔️ Print Function \n",
    "\n",
    "In this notebook, we're going to work with the **print( )** function in Python. **print( )** is one the most common built-in function in Python programming. Using this function, you're capable of showing you variable on the screen.\n",
    "\n",
    "- **print** name is reserved for Python. You shouldn't choose this name as your `variable name`.\n",
    "- Because **print** is a function it needs **parenthesis** (opening and closing).\n",
    "- Closing parenthesis will be automatically created in Jupyter notebook.\n",
    "- To read more about print function, check [this resource](https://www.w3schools.com/python/ref_func_print.asp). "
   ]
  },
  {
   "cell_type": "code",
   "execution_count": 1,
   "id": "31be0674",
   "metadata": {},
   "outputs": [
    {
     "name": "stdout",
     "output_type": "stream",
     "text": [
      "Hello World!\n"
     ]
    }
   ],
   "source": [
    "# 1. print -> \"Hello World!\"\n",
    "\n",
    "print(\"Hello World!\")"
   ]
  },
  {
   "cell_type": "code",
   "execution_count": 5,
   "id": "f3edffea",
   "metadata": {},
   "outputs": [
    {
     "name": "stdout",
     "output_type": "stream",
     "text": [
      "5 15\n"
     ]
    }
   ],
   "source": [
    "# 2. print -> 5, 5 + 10\n",
    "\n",
    "print(5, 5+10)"
   ]
  },
  {
   "cell_type": "code",
   "execution_count": 6,
   "id": "741b70fb",
   "metadata": {},
   "outputs": [],
   "source": [
    "# 3. use ->\"?\" mark -> to access the documentation\n",
    "\n",
    "print?"
   ]
  },
  {
   "cell_type": "code",
   "execution_count": 7,
   "id": "e9f16c0b",
   "metadata": {},
   "outputs": [
    {
     "name": "stdout",
     "output_type": "stream",
     "text": [
      "Help on built-in function print in module builtins:\n",
      "\n",
      "print(...)\n",
      "    print(value, ..., sep=' ', end='\\n', file=sys.stdout, flush=False)\n",
      "    \n",
      "    Prints the values to a stream, or to sys.stdout by default.\n",
      "    Optional keyword arguments:\n",
      "    file:  a file-like object (stream); defaults to the current sys.stdout.\n",
      "    sep:   string inserted between values, default a space.\n",
      "    end:   string appended after the last value, default a newline.\n",
      "    flush: whether to forcibly flush the stream.\n",
      "\n"
     ]
    }
   ],
   "source": [
    "# 4. use -> help() -> to access the documentation\n",
    "\n",
    "help(print)"
   ]
  },
  {
   "cell_type": "markdown",
   "id": "2ba4db7c",
   "metadata": {},
   "source": [
    "---\n",
    "<a name=\"end\"></a>\n",
    "### Congrats! \n",
    "\n",
    "🔥 Let's go to the next session.\n",
    "\n",
    "📝 This Jupyter notebook has been created by [Ahmad Ahmadi](https://www.linkedin.com/in/ahmad-ahmadi95/). Please follow me and [izlearn](https://www.linkedin.com/company/izlearn) on LinkedIn social media.  \n",
    "\n",
    "🌐 Visit your website for more courses [izlearn.ir](https://izlearn.ir)"
   ]
  }
 ],
 "metadata": {
  "kernelspec": {
   "display_name": "Python 3 (ipykernel)",
   "language": "python",
   "name": "python3"
  },
  "language_info": {
   "codemirror_mode": {
    "name": "ipython",
    "version": 3
   },
   "file_extension": ".py",
   "mimetype": "text/x-python",
   "name": "python",
   "nbconvert_exporter": "python",
   "pygments_lexer": "ipython3",
   "version": "3.9.5"
  }
 },
 "nbformat": 4,
 "nbformat_minor": 5
}
