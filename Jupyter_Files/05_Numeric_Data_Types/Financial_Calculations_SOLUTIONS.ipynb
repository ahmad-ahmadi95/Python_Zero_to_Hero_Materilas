{
 "cells": [
  {
   "cell_type": "markdown",
   "id": "28f071ec",
   "metadata": {},
   "source": [
    "## • Financial Calculations\n",
    "\n",
    "**Hi I'm Mohsen** as a financial planner at izshop!\n",
    "\n",
    "• This is [my website](https://mohsen-abbasi.ir/) if you need something in the acounting field!\n",
    "So Let's get back to my request form you as a Python programmer!\n",
    "\n",
    "• We know that <span style=\"color:blue;\">writing proper code can save a lot of time for us!</span> So I need your help calculating the following numbers?\n",
    "1. **Gross profit** from selling a black shoes! \n",
    "2. **Gross margin** from selling a black shoes! \n",
    "3. **Price** needed for gorss margin of 60%\n",
    "4. **Sales tax** on a black shoes sale\n",
    "5. **Amount of money** if the gross fit from selling *100 black shoes* is invested for on year"
   ]
  },
  {
   "cell_type": "code",
   "execution_count": 1,
   "id": "ccb69e1d",
   "metadata": {},
   "outputs": [],
   "source": [
    "# 0. Creating Our Variables → Black shoes price & Black shoes cost in €\n",
    "blackshoes_price = 25\n",
    "blackshoes_cost = 18.32"
   ]
  },
  {
   "cell_type": "markdown",
   "id": "77310eb6",
   "metadata": {},
   "source": [
    "### 🤔 How Much Profit Do We Get? ( Percentage )"
   ]
  },
  {
   "cell_type": "code",
   "execution_count": 2,
   "id": "ad3bb8f2",
   "metadata": {},
   "outputs": [
    {
     "data": {
      "text/plain": [
       "36.46288209606986"
      ]
     },
     "execution_count": 2,
     "metadata": {},
     "output_type": "execute_result"
    }
   ],
   "source": [
    "# 0.1. How much profgit do we get from selling a pair of black %shoes in percent?\n",
    "\n",
    "# start here\n",
    "((blackshoes_price - blackshoes_cost) / blackshoes_cost) * 100"
   ]
  },
  {
   "cell_type": "markdown",
   "id": "968b7a20",
   "metadata": {},
   "source": [
    "### 1. Calculate The Gross Profit\n",
    "\n",
    "🔸 **Formula** : Price minus Cost → `gross profit = price - cost`"
   ]
  },
  {
   "cell_type": "code",
   "execution_count": 3,
   "id": "b3237e90",
   "metadata": {},
   "outputs": [
    {
     "data": {
      "text/plain": [
       "6.68"
      ]
     },
     "execution_count": 3,
     "metadata": {},
     "output_type": "execute_result"
    }
   ],
   "source": [
    "# 1. Gross profit from selling a pair of black shoes? \n",
    "\n",
    "# start here \n",
    "gross_profit = blackshoes_price - blackshoes_cost\n",
    "\n",
    "gross_profit"
   ]
  },
  {
   "cell_type": "markdown",
   "id": "6494e34d",
   "metadata": {},
   "source": [
    "### 2. Calculate The Gross Margin\n",
    "\n",
    "🔸 **Formual** : Gross profit devided by price → `gross margin = gross profit / price` "
   ]
  },
  {
   "cell_type": "code",
   "execution_count": 4,
   "id": "b44ccab1",
   "metadata": {},
   "outputs": [
    {
     "data": {
      "text/plain": [
       "0.2672"
      ]
     },
     "execution_count": 4,
     "metadata": {},
     "output_type": "execute_result"
    }
   ],
   "source": [
    "# 2. Gross margin from selling a pair of black shoes? \n",
    "\n",
    "# start here \n",
    "gross_margin = gross_profit / blackshoes_price \n",
    "\n",
    "gross_margin"
   ]
  },
  {
   "cell_type": "code",
   "execution_count": 5,
   "id": "030d7745",
   "metadata": {},
   "outputs": [
    {
     "name": "stdout",
     "output_type": "stream",
     "text": [
      "The gross margin from selling a pair of black shoes is 26.72 %\n",
      "The calculaion: 25 × 0.2672 = 6.68 €\n"
     ]
    }
   ],
   "source": [
    "# 2.1. Just run the cell and view the result\n",
    "\n",
    "print(f'The gross margin from selling a pair of black shoes is {gross_margin*100} %')\n",
    "print(f'The calculaion: {blackshoes_price} × {gross_margin} = {blackshoes_price*gross_margin} €')"
   ]
  },
  {
   "cell_type": "markdown",
   "id": "b22f043d",
   "metadata": {},
   "source": [
    "<div class=\"alert alert-info\">\n",
    "    🔸 Later on in the course, we'll learn how to use <b>f-string</b> in Python ✌🏼\n",
    "<div>"
   ]
  },
  {
   "cell_type": "markdown",
   "id": "3053c92c",
   "metadata": {},
   "source": [
    "### 3. Calculate The Price Needed to Obtain a Gross Margin of 60%\n",
    "\n",
    "🔸 **Formual** : cost divieded by (1 minus the desired margin) → `needed price = cost / (1 - desired margin)` "
   ]
  },
  {
   "cell_type": "code",
   "execution_count": 6,
   "id": "d9f5dc6f",
   "metadata": {},
   "outputs": [
    {
     "data": {
      "text/plain": [
       "45.8"
      ]
     },
     "execution_count": 6,
     "metadata": {},
     "output_type": "execute_result"
    }
   ],
   "source": [
    "# 3. Price needed for the gross margin of 60%?\n",
    "desired_margin = .6 \n",
    "\n",
    "# start here\n",
    "price_needed_for60 = blackshoes_cost / (1 - desired_margin)\n",
    "\n",
    "price_needed_for60"
   ]
  },
  {
   "cell_type": "markdown",
   "id": "d360e413",
   "metadata": {},
   "source": [
    "### 4. Calcualte The Sales Tax On Black Shoes Sale\n",
    "\n",
    "📝 tax rate = 10%\n",
    "\n",
    "🔸 **Formula** : price times tax rate → `sales tax = price * tax rate`"
   ]
  },
  {
   "cell_type": "code",
   "execution_count": 7,
   "id": "deb9ec9d",
   "metadata": {},
   "outputs": [
    {
     "data": {
      "text/plain": [
       "2.5"
      ]
     },
     "execution_count": 7,
     "metadata": {},
     "output_type": "execute_result"
    }
   ],
   "source": [
    "# 4. Sales tax on the black shoes? \n",
    "tax_rate = 0.1 \n",
    "\n",
    "# start here\n",
    "sales_tax = blackshoes_price * tax_rate\n",
    "\n",
    "sales_tax"
   ]
  },
  {
   "cell_type": "markdown",
   "id": "d68f0399",
   "metadata": {},
   "source": [
    "### 5. Calculate the Amount of Money We'd Have If We Invested the Profit of Selling 100 `Black Shoes` For 1 Year\n",
    "\n",
    "📝 interest rate = 15%\n",
    "\n",
    "🔸 **Formual** : invested amount plus (invested amount times interest rate) → `money = invested amount + (invested amount * interest rate)`"
   ]
  },
  {
   "cell_type": "code",
   "execution_count": 8,
   "id": "4e934a80",
   "metadata": {},
   "outputs": [
    {
     "data": {
      "text/plain": [
       "768.2"
      ]
     },
     "execution_count": 8,
     "metadata": {},
     "output_type": "execute_result"
    }
   ],
   "source": [
    "# 5. Amoutn of money after 1 year? \n",
    "interest_rate =  .15\n",
    "invested_money = 100 * gross_profit \n",
    "\n",
    "# start here \n",
    "money_after_1year = invested_money + (invested_money * interest_rate)\n",
    "\n",
    "money_after_1year"
   ]
  },
  {
   "cell_type": "markdown",
   "id": "d4ac8e67",
   "metadata": {},
   "source": [
    "## 6. Printing the results\n",
    "\n",
    "🔸 Using **print( )** function, show all of your calculations result to the screen!"
   ]
  },
  {
   "cell_type": "code",
   "execution_count": 9,
   "id": "cec05de4",
   "metadata": {},
   "outputs": [
    {
     "name": "stdout",
     "output_type": "stream",
     "text": [
      "6.68\n",
      "0.2672\n",
      "45.8\n",
      "2.5\n",
      "768.2\n"
     ]
    }
   ],
   "source": [
    "# 6. Print the result\n",
    "print(gross_profit)\n",
    "print(gross_margin)\n",
    "print(price_needed_for60)\n",
    "print(sales_tax)\n",
    "print(money_after_1year)"
   ]
  },
  {
   "cell_type": "markdown",
   "id": "17d5a137",
   "metadata": {},
   "source": [
    "## 7. Extra Work : Show All Variables Created in This Notebook\n",
    "\n",
    "🔸 Use a proper magic commnad to show all created variables and their amounts"
   ]
  },
  {
   "cell_type": "code",
   "execution_count": 10,
   "id": "166c2ac9",
   "metadata": {},
   "outputs": [
    {
     "name": "stdout",
     "output_type": "stream",
     "text": [
      "Variable             Type     Data/Info\n",
      "---------------------------------------\n",
      "blackshoes_cost      float    18.32\n",
      "blackshoes_price     int      25\n",
      "desired_margin       float    0.6\n",
      "gross_margin         float    0.2672\n",
      "gross_profit         float    6.68\n",
      "interest_rate        float    0.15\n",
      "invested_money       float    668.0\n",
      "money_after_1year    float    768.2\n",
      "price_needed_for60   float    45.8\n",
      "sales_tax            float    2.5\n",
      "tax_rate             float    0.1\n"
     ]
    }
   ],
   "source": [
    "# 7. Show All defined variables\n",
    "%whos"
   ]
  },
  {
   "cell_type": "markdown",
   "id": "90e3f87c",
   "metadata": {},
   "source": [
    "---\n",
    "<a name=\"end\"></a>\n",
    "### Congrats! \n",
    "\n",
    "🔥 Let's go to the next session.\n",
    "\n",
    "📝 This Jupyter notebook has been created by [Ahmad Ahmadi](https://www.linkedin.com/in/ahmad-ahmadi95/). Please follow me and [izlearn](https://www.linkedin.com/company/izlearn) on LinkedIn social media.  \n",
    "\n",
    "🌐 Visit your website for more courses [izlearn.ir](https://izlearn.ir)"
   ]
  }
 ],
 "metadata": {
  "kernelspec": {
   "display_name": "Python 3 (ipykernel)",
   "language": "python",
   "name": "python3"
  },
  "language_info": {
   "codemirror_mode": {
    "name": "ipython",
    "version": 3
   },
   "file_extension": ".py",
   "mimetype": "text/x-python",
   "name": "python",
   "nbconvert_exporter": "python",
   "pygments_lexer": "ipython3",
   "version": "3.9.5"
  }
 },
 "nbformat": 4,
 "nbformat_minor": 5
}
