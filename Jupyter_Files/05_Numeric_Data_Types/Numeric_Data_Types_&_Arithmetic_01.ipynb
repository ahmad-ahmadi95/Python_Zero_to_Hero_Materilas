{
 "cells": [
  {
   "cell_type": "markdown",
   "id": "941db440",
   "metadata": {},
   "source": [
    "#### • Table of the content\n",
    "\n",
    "1. [Numeric Data Types](#1)\n",
    "2. [Numeric Type Conversion](#2)\n",
    "3. [Arithmetic Operations](#3)\n",
    "4. [Operators & Operands](#4)\n",
    "5. [Order of Operations](#5)\n",
    "6. [More Info (Follow Me on LinkedIn)](#end)\n",
    "---"
   ]
  },
  {
   "cell_type": "markdown",
   "id": "e1f0bf1c",
   "metadata": {},
   "source": [
    "<a name=\"1\"></a>\n",
    "## Numeric Data Types\n",
    "\n",
    "🔸 There are **three** types of numeric data types in Python\n",
    "1. Intergers → `int ` → Whole numbers **without** decimal points i.e. (26, 11, 2023, -7)\n",
    "2. Floating-Point Numbers → `float` → Real numbers **with** decimal points i.e. (3.14, 0.0, 1.6, -7.0)\n",
    "3. Complex → `complex` → Numbers with **real** & **imaginary** part i.e. (3 + 2j, -5j)"
   ]
  },
  {
   "cell_type": "code",
   "execution_count": 1,
   "id": "68198664",
   "metadata": {},
   "outputs": [
    {
     "data": {
      "text/plain": [
       "(str, float, int, int)"
      ]
     },
     "execution_count": 1,
     "metadata": {},
     "output_type": "execute_result"
    }
   ],
   "source": [
    "# 1. Let's define our data in this cell\n",
    "my_str = \"2023\"\n",
    "my_float = 3.1415\n",
    "my_int1 = 7\n",
    "my_int2 = 3\n",
    "\n",
    "# 1.1 Show the type of all these variables\n",
    "type(my_str), type(my_float), type(my_int1), type(my_int2)"
   ]
  },
  {
   "cell_type": "markdown",
   "id": "67cdeda4",
   "metadata": {},
   "source": [
    "<a name=\"2\"></a>\n",
    "### Numeric Type Conversion\n",
    "\n",
    "🔸 Using `<data-type>(object)` in Python, you're able to convert different numeric data types together. \n",
    "1. int(obj)\n",
    "2. float(obj)\n",
    "3. complex(obj)"
   ]
  },
  {
   "cell_type": "code",
   "execution_count": 2,
   "id": "6c9f2773",
   "metadata": {},
   "outputs": [
    {
     "data": {
      "text/plain": [
       "(2023, int)"
      ]
     },
     "execution_count": 2,
     "metadata": {},
     "output_type": "execute_result"
    }
   ],
   "source": [
    "# 2. Convert str → integer\n",
    "# 2.1 \"2023\" → 2023\n",
    "str_to_int = int(my_str)\n",
    "\n",
    "str_to_int, type(str_to_int)"
   ]
  },
  {
   "cell_type": "code",
   "execution_count": 3,
   "id": "cc81e402",
   "metadata": {},
   "outputs": [
    {
     "data": {
      "text/plain": [
       "(3, int)"
      ]
     },
     "execution_count": 3,
     "metadata": {},
     "output_type": "execute_result"
    }
   ],
   "source": [
    "# 3. Convert float → integer\n",
    "# 3.1 3.1415 → 3\n",
    "float_to_int = int(my_float)\n",
    "\n",
    "float_to_int, type(float_to_int)"
   ]
  },
  {
   "cell_type": "code",
   "execution_count": 4,
   "id": "081a2809",
   "metadata": {},
   "outputs": [
    {
     "data": {
      "text/plain": [
       "(2023.0, float)"
      ]
     },
     "execution_count": 4,
     "metadata": {},
     "output_type": "execute_result"
    }
   ],
   "source": [
    "# 4. Convert str → float\n",
    "# \"2023\" → 2023.0\n",
    "str_to_float = float(my_str)\n",
    "\n",
    "str_to_float, type(str_to_float)"
   ]
  },
  {
   "cell_type": "code",
   "execution_count": 5,
   "id": "fa986418",
   "metadata": {},
   "outputs": [
    {
     "data": {
      "text/plain": [
       "((7+0j), complex)"
      ]
     },
     "execution_count": 5,
     "metadata": {},
     "output_type": "execute_result"
    }
   ],
   "source": [
    "# 5. Convert int → Complex\n",
    "# 7 → 7 + 0j\n",
    "int_to_complex = complex(my_int1)\n",
    "\n",
    "int_to_complex, type(int_to_complex)"
   ]
  },
  {
   "cell_type": "markdown",
   "id": "af348315",
   "metadata": {},
   "source": [
    "<div class=\"alert alert-danger\">\n",
    "    🔸 <b>Note</b><br>\n",
    "    If your string contains <b>non-numeric</b> characters, and you try to convert it to an <u>integer</u> or <u>float</u> data       type you'll get an <b>ValueError</b>\n",
    "</div>"
   ]
  },
  {
   "cell_type": "code",
   "execution_count": 6,
   "id": "e996fea6",
   "metadata": {},
   "outputs": [
    {
     "ename": "ValueError",
     "evalue": "invalid literal for int() with base 10: 'year2023'",
     "output_type": "error",
     "traceback": [
      "\u001b[1;31m----------------------------------------------------------------\u001b[0m",
      "\u001b[1;31mValueError\u001b[0m                     Traceback (most recent call last)",
      "Cell \u001b[1;32mIn[6], line 4\u001b[0m\n\u001b[0;32m      1\u001b[0m new_str \u001b[38;5;241m=\u001b[39m \u001b[38;5;124m\"\u001b[39m\u001b[38;5;124myear2023\u001b[39m\u001b[38;5;124m\"\u001b[39m\n\u001b[0;32m      3\u001b[0m \u001b[38;5;66;03m# 6. Convert \"new_str\" to integer\u001b[39;00m\n\u001b[1;32m----> 4\u001b[0m \u001b[38;5;28;43mint\u001b[39;49m\u001b[43m(\u001b[49m\u001b[43mnew_str\u001b[49m\u001b[43m)\u001b[49m\n",
      "\u001b[1;31mValueError\u001b[0m: invalid literal for int() with base 10: 'year2023'"
     ]
    }
   ],
   "source": [
    "new_str = \"year2023\"\n",
    "\n",
    "# 6. Convert \"new_str\" to integer\n",
    "int(new_str)"
   ]
  },
  {
   "cell_type": "markdown",
   "id": "800ec46f",
   "metadata": {},
   "source": [
    "<a name=\"3\"></a>\n",
    "### Arithmetic Operations\n",
    "\n",
    "🔸 Arithmetic operators are **special symbols** in Python, using them you can do mathmatical operations in your code\n",
    "\n",
    "1. Addition  → <span style=\"color:#4776E6;font-weight:bold;\">+</span>\n",
    "2. Subtraction  → <span style=\"color:#4776E6;font-weight:bold;\">-</span>\n",
    "3. Multiplication  → <span style=\"color:#4776E6;font-weight:bold;\">*</span>\n",
    "4. Division  → <span style=\"color:#4776E6;font-weight:bold;\">/</span>\n",
    "5. Flooar Division  → <span style=\"color:#4776E6;font-weight:bold;\">//</span>\n",
    "6. Modulo  → <span style=\"color:#4776E6;font-weight:bold;\">%</span>\n",
    "7. Exponentiation  → <span style=\"color:#4776E6;font-weight:bold;\">**</span>"
   ]
  },
  {
   "cell_type": "code",
   "execution_count": 7,
   "id": "3cb3fbf5",
   "metadata": {},
   "outputs": [
    {
     "data": {
      "text/plain": [
       "10.1415"
      ]
     },
     "execution_count": 7,
     "metadata": {},
     "output_type": "execute_result"
    }
   ],
   "source": [
    "# 7. Add \"my_float\" to \"my_int1\" (Addition)\n",
    "# 7 + 3.1415 = 10.1415\n",
    "my_float + my_int1"
   ]
  },
  {
   "cell_type": "code",
   "execution_count": 8,
   "id": "f3a5185b",
   "metadata": {},
   "outputs": [
    {
     "data": {
      "text/plain": [
       "0.14150000000000018"
      ]
     },
     "execution_count": 8,
     "metadata": {},
     "output_type": "execute_result"
    }
   ],
   "source": [
    "# 8. Subtract \"my_float\" from \"my_int2\" (Subtraction)\n",
    "# 3.1415 - 3 = 0.1415\n",
    "my_float - my_int2"
   ]
  },
  {
   "cell_type": "code",
   "execution_count": 9,
   "id": "378514ea",
   "metadata": {},
   "outputs": [
    {
     "data": {
      "text/plain": [
       "21.9905"
      ]
     },
     "execution_count": 9,
     "metadata": {},
     "output_type": "execute_result"
    }
   ],
   "source": [
    "# 9. Multiply \"my_float\" by \"my_int1\" (Multiplication)\n",
    "# 3.1415 * 7 = 21.9905\n",
    "my_float * my_int1"
   ]
  },
  {
   "cell_type": "code",
   "execution_count": 10,
   "id": "26c452a1",
   "metadata": {},
   "outputs": [
    {
     "data": {
      "text/plain": [
       "2.228234919624383"
      ]
     },
     "execution_count": 10,
     "metadata": {},
     "output_type": "execute_result"
    }
   ],
   "source": [
    "# 10. Divide \"my_int1\" by \"my_float\" (Division)\n",
    "# 7 / 3.1415 = 2.2282349196\n",
    "my_int1 / my_float"
   ]
  },
  {
   "cell_type": "code",
   "execution_count": 12,
   "id": "89b29946",
   "metadata": {},
   "outputs": [
    {
     "data": {
      "text/plain": [
       "2.0"
      ]
     },
     "execution_count": 12,
     "metadata": {},
     "output_type": "execute_result"
    }
   ],
   "source": [
    "# 11. Divide \"my_int1\" by \"my_float\" and round down to the nearest integer (Floor Division)\n",
    "# 7 // 3.1415 = 2.0\n",
    "my_int1 // my_float"
   ]
  },
  {
   "cell_type": "code",
   "execution_count": 13,
   "id": "5011fd05",
   "metadata": {},
   "outputs": [
    {
     "data": {
      "text/plain": [
       "1"
      ]
     },
     "execution_count": 13,
     "metadata": {},
     "output_type": "execute_result"
    }
   ],
   "source": [
    "# 12. Show the remainder of division of \"my_int1\" by \"my_int2\" (Modulo)\n",
    "# 7 % 3 = 1\n",
    "my_int1 % my_int2"
   ]
  },
  {
   "cell_type": "code",
   "execution_count": 14,
   "id": "1c8d339c",
   "metadata": {},
   "outputs": [
    {
     "data": {
      "text/plain": [
       "343"
      ]
     },
     "execution_count": 14,
     "metadata": {},
     "output_type": "execute_result"
    }
   ],
   "source": [
    "# 13. Raise \"my_int1\" to the power of \"my_int2\" (Exponentiation)\n",
    "# 7 ** 3 = 343\n",
    "my_int1 ** my_int2"
   ]
  },
  {
   "cell_type": "markdown",
   "id": "7417b3e6",
   "metadata": {},
   "source": [
    "<a name=\"5\"></a>\n",
    "### Order of Operations\n",
    "\n",
    "🔸 Python uses the standard [PEMDAS](https://www.mathsisfun.com/operation-order-pemdas.html) order of operations to perform calculations. **PEMDAS** Stands for: \n",
    "1. Parentheses → (  )\n",
    "2. Exponentiation → **\n",
    "3. Multiplication & Division → * /\n",
    "4. Addition & Subtraction → + - "
   ]
  },
  {
   "cell_type": "code",
   "execution_count": 15,
   "id": "d96a5f3b",
   "metadata": {},
   "outputs": [
    {
     "data": {
      "text/plain": [
       "7.0"
      ]
     },
     "execution_count": 15,
     "metadata": {},
     "output_type": "execute_result"
    }
   ],
   "source": [
    "# 14. PEMDAS standard → Without parentheses\n",
    "2*6 + 3 - 2**4 / 2"
   ]
  },
  {
   "cell_type": "code",
   "execution_count": 16,
   "id": "8bf83d2a",
   "metadata": {},
   "outputs": [
    {
     "data": {
      "text/plain": [
       "14.0"
      ]
     },
     "execution_count": 16,
     "metadata": {},
     "output_type": "execute_result"
    }
   ],
   "source": [
    "# 15. PEMDAS standard → With parentheses\n",
    "2*(6 + (3 - 2)**(4 / 2))"
   ]
  },
  {
   "cell_type": "markdown",
   "id": "5808b39f",
   "metadata": {},
   "source": [
    "---\n",
    "<a name=\"end\"></a>\n",
    "### Congrats! \n",
    "\n",
    "🔥 Let's go to the next session.\n",
    "\n",
    "📝 This Jupyter notebook has been created by [Ahmad Ahmadi](https://www.linkedin.com/in/ahmad-ahmadi95/). Please follow me and [izlearn](https://www.linkedin.com/company/izlearn) on LinkedIn social media.  \n",
    "\n",
    "🌐 Visit your website for more courses [izlearn.ir](https://izlearn.ir)"
   ]
  }
 ],
 "metadata": {
  "kernelspec": {
   "display_name": "Python 3 (ipykernel)",
   "language": "python",
   "name": "python3"
  },
  "language_info": {
   "codemirror_mode": {
    "name": "ipython",
    "version": 3
   },
   "file_extension": ".py",
   "mimetype": "text/x-python",
   "name": "python",
   "nbconvert_exporter": "python",
   "pygments_lexer": "ipython3",
   "version": "3.9.5"
  }
 },
 "nbformat": 4,
 "nbformat_minor": 5
}
