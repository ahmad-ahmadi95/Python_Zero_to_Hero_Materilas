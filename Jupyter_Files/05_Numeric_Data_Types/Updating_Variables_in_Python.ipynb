{
 "cells": [
  {
   "cell_type": "markdown",
   "id": "941db440",
   "metadata": {},
   "source": [
    "#### • Table of the content\n",
    "\n",
    "1. [Assignment Operator](#1)\n",
    "2. [Shorthand For Updating Variables](#2)\n",
    "6. [More Info (Follow Me on LinkedIn)](#end)\n",
    "---"
   ]
  },
  {
   "cell_type": "markdown",
   "id": "e1f0bf1c",
   "metadata": {},
   "source": [
    "<a name=\"1\"></a>\n",
    "## Assignment Operators\n",
    "\n",
    "🔸 The sign **<span style=\"color:#6A82FB;\">=</span>** is used to **assign a value** to a variable. In programming most of the time we want to *update a variable* to a new value and save it again to that variable. "
   ]
  },
  {
   "cell_type": "code",
   "execution_count": 5,
   "id": "68198664",
   "metadata": {},
   "outputs": [
    {
     "data": {
      "text/plain": [
       "1"
      ]
     },
     "execution_count": 5,
     "metadata": {},
     "output_type": "execute_result"
    }
   ],
   "source": [
    "# 1. Update the \"my_var\" variable (complete form)\n",
    "my_var = 0\n",
    "my_var = my_var + 1\n",
    "\n",
    "my_var"
   ]
  },
  {
   "cell_type": "code",
   "execution_count": 6,
   "id": "5327e7fa",
   "metadata": {},
   "outputs": [
    {
     "name": "stdout",
     "output_type": "stream",
     "text": [
      "After Finishing Loop → 5\n"
     ]
    }
   ],
   "source": [
    "# 2. Update the \"my_var\" within a \"for\" loop\n",
    "my_var = 0\n",
    "\n",
    "for i in range(5):  # → range(5): 0,1,2,3,4\n",
    "    \n",
    "    my_var = my_var + 1  # ← updating the variable\n",
    "    \n",
    "print(f'After Finishing Loop → {my_var}')"
   ]
  },
  {
   "cell_type": "markdown",
   "id": "1c10e1bd",
   "metadata": {},
   "source": [
    "<a name=\"2\"></a>\n",
    "### Shorthand For Updating Variables\n",
    "\n",
    "🔸 Python gives us this ability to update a variable in a **shorthand form** as follows: \n",
    "1. x = x + 1 → `x += 1`\n",
    "\n",
    "2. x = x - 1 → `x -= 1`\n",
    "\n",
    "3. x = x * 2 → `x *= 2`\n",
    "\n",
    "4. x = x / 2 → `x /= 2`\n",
    "\n",
    "5. x = x // 2 → `x //= 2`\n",
    "\n",
    "6. x = x % 2 → `x %= 2`\n",
    "\n",
    "7. x = x ** 2 → `x **= 2`"
   ]
  },
  {
   "cell_type": "code",
   "execution_count": 7,
   "id": "c84ae6c1",
   "metadata": {},
   "outputs": [
    {
     "data": {
      "text/plain": [
       "1"
      ]
     },
     "execution_count": 7,
     "metadata": {},
     "output_type": "execute_result"
    }
   ],
   "source": [
    "# 3. Update the \"my_var\" (shorthand form)\n",
    "my_var = 0 \n",
    "my_var += 1\n",
    "\n",
    "my_var"
   ]
  },
  {
   "cell_type": "code",
   "execution_count": 10,
   "id": "d87c962e",
   "metadata": {},
   "outputs": [
    {
     "name": "stdout",
     "output_type": "stream",
     "text": [
      "my_var: 0\n",
      "my_var +=1 → 1\n",
      "\n",
      "my_var: 1\n",
      "my_var +=1 → 2\n",
      "\n",
      "my_var: 2\n",
      "my_var +=1 → 3\n",
      "\n",
      "my_var: 3\n",
      "my_var +=1 → 4\n",
      "\n",
      "my_var: 4\n",
      "my_var +=1 → 5\n",
      "\n",
      "Loop was finished!\n"
     ]
    }
   ],
   "source": [
    "# 4. Update the \"my_var\" within a \"for\" loop (shorthand form)\n",
    "my_var = 0\n",
    "\n",
    "for i in range(5):  # → range(5): 0,1,2,3,4\n",
    "    \n",
    "    print(f'my_var: {my_var}')\n",
    "    \n",
    "    my_var +=1  # ← shorthand form\n",
    "    \n",
    "    print(f'my_var +=1 → {my_var}\\n')\n",
    "    \n",
    "print('Loop was finished!')"
   ]
  },
  {
   "cell_type": "markdown",
   "id": "5808b39f",
   "metadata": {},
   "source": [
    "---\n",
    "<a name=\"end\"></a>\n",
    "### Congrats! \n",
    "\n",
    "🔥 Let's go to the next session.\n",
    "\n",
    "📝 This Jupyter notebook has been created by [Ahmad Ahmadi](https://www.linkedin.com/in/ahmad-ahmadi95/). Please follow me and [izlearn](https://www.linkedin.com/company/izlearn) on LinkedIn social media.  \n",
    "\n",
    "🌐 Visit your website for more courses [izlearn.ir](https://izlearn.ir)"
   ]
  }
 ],
 "metadata": {
  "kernelspec": {
   "display_name": "Python 3 (ipykernel)",
   "language": "python",
   "name": "python3"
  },
  "language_info": {
   "codemirror_mode": {
    "name": "ipython",
    "version": 3
   },
   "file_extension": ".py",
   "mimetype": "text/x-python",
   "name": "python",
   "nbconvert_exporter": "python",
   "pygments_lexer": "ipython3",
   "version": "3.9.5"
  }
 },
 "nbformat": 4,
 "nbformat_minor": 5
}
