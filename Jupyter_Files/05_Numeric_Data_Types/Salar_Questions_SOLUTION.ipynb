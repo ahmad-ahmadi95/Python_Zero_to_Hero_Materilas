{
 "cells": [
  {
   "cell_type": "markdown",
   "id": "7c4f6246",
   "metadata": {},
   "source": [
    "## • Salar's Questions For FAQ\n",
    "\n",
    "**Hi there!**\n",
    "\n",
    "Can you quickly calculate the following numbers for me? I want to use these numbers in the **FAQ** (Frequenctly Asked Questions) section of the website.\n",
    "\n",
    "* Which price is the **highest** one?\n",
    "* Which price is the **lowest** one?\n",
    "* Can you calculate the **average for prices** in the list?`(rounded to the nearest euro)`\n",
    "\n",
    "Thank You"
   ]
  },
  {
   "cell_type": "code",
   "execution_count": 1,
   "id": "389da85e",
   "metadata": {},
   "outputs": [
    {
     "data": {
      "text/plain": [
       "[39,\n",
       " 8.5,\n",
       " 8,\n",
       " 24.99,\n",
       " 10,\n",
       " 12,\n",
       " 35,\n",
       " 9,\n",
       " 33.5,\n",
       " 44,\n",
       " 53.99,\n",
       " 11,\n",
       " 21,\n",
       " 11.9,\n",
       " 21,\n",
       " 28.9,\n",
       " 19.9,\n",
       " 22,\n",
       " 7,\n",
       " 14,\n",
       " 20,\n",
       " 12,\n",
       " 11,\n",
       " 9,\n",
       " 10]"
      ]
     },
     "execution_count": 1,
     "metadata": {},
     "output_type": "execute_result"
    }
   ],
   "source": [
    "# The \"price_list\" variable containing prices of items\n",
    "\n",
    "prices_list = [\n",
    "    \n",
    "    39, 8.5, 8, 24.99, 10, 12, 35, 9, 33.5, 44, 53.99, 11,\n",
    "    21, 11.9, 21, 28.9, 19.9, 22, 7, 14, 20, 12, 11, 9, 10\n",
    "]\n",
    "\n",
    "prices_list"
   ]
  },
  {
   "cell_type": "markdown",
   "id": "3a707c23",
   "metadata": {},
   "source": [
    "### 🔸 The Highest & The Lowest Price In The List\n",
    "\n",
    "#### `1. SOLUTION ONE` \n",
    "We can calculate the **highest** and the **lowest** in one-line code!"
   ]
  },
  {
   "cell_type": "code",
   "execution_count": 2,
   "id": "173c6ba5",
   "metadata": {},
   "outputs": [
    {
     "name": "stdout",
     "output_type": "stream",
     "text": [
      "53.99 7\n"
     ]
    }
   ],
   "source": [
    "# 1. Single-line solution: \n",
    "\n",
    "print(max(prices_list), min(prices_list))"
   ]
  },
  {
   "cell_type": "markdown",
   "id": "f1e6ab8d",
   "metadata": {},
   "source": [
    "### 🔸 The Highest & The Lowest Price In the List\n",
    "\n",
    "#### `2. SOLUTION TWO `\n",
    "\n",
    "We can use **variable assginement** to create separate varibles and use them inside of the *print( )* function."
   ]
  },
  {
   "cell_type": "code",
   "execution_count": 3,
   "id": "a0c58b6f",
   "metadata": {},
   "outputs": [
    {
     "name": "stdout",
     "output_type": "stream",
     "text": [
      "53.99 7\n"
     ]
    }
   ],
   "source": [
    "# 2. Variable assignment solution\n",
    "highest_price = max(prices_list)\n",
    "lowest_price = min(prices_list)\n",
    "\n",
    "print(highest_price, lowest_price)"
   ]
  },
  {
   "cell_type": "markdown",
   "id": "6e383e8f",
   "metadata": {},
   "source": [
    "### 🔸 The Average of All Prices in The List?\n",
    "\n",
    "📝 The formula is → $ mean = \\frac {total}{number}\\ $\n",
    "\n",
    "📝 `Round it to the nearest euro!`"
   ]
  },
  {
   "cell_type": "markdown",
   "id": "0910723a",
   "metadata": {},
   "source": [
    "#### `SOLUTION ONE`\n",
    "\n",
    "We can calculate the **average** of all prices in one-line code!"
   ]
  },
  {
   "cell_type": "code",
   "execution_count": 5,
   "id": "da21c784",
   "metadata": {},
   "outputs": [
    {
     "name": "stdout",
     "output_type": "stream",
     "text": [
      "20\n"
     ]
    }
   ],
   "source": [
    "# 3. Single-line solution\n",
    "prices_num = 25   # number of prices in the list\n",
    "\n",
    "print(round(sum(prices_list)/prices_num))"
   ]
  },
  {
   "cell_type": "markdown",
   "id": "55680713",
   "metadata": {},
   "source": [
    "#### `SOLUTION TWO`\n",
    "\n",
    "We can use **variable assginement** to create separate varibles and use them inside of the *print( )* function."
   ]
  },
  {
   "cell_type": "code",
   "execution_count": 7,
   "id": "0c6cf599",
   "metadata": {},
   "outputs": [
    {
     "name": "stdout",
     "output_type": "stream",
     "text": [
      "20\n"
     ]
    }
   ],
   "source": [
    "# 4. Variable assignment solution\n",
    "\n",
    "prices_num = 25   # number of prices in the list\n",
    "all_prices = sum(prices_list)\n",
    "prices_avg = all_prices / prices_num\n",
    "rounded_avg = round(prices_avg)\n",
    "\n",
    "print(rounded_avg)"
   ]
  },
  {
   "cell_type": "markdown",
   "id": "c060d45c",
   "metadata": {},
   "source": [
    "---\n",
    "<a name=\"end\"></a>\n",
    "### Congrats! \n",
    "\n",
    "🔥 Let's go to the next session.\n",
    "\n",
    "📝 This Jupyter notebook has been created by [Ahmad Ahmadi](https://www.linkedin.com/in/ahmad-ahmadi95/). Please follow me and [izlearn](https://www.linkedin.com/company/izlearn) on LinkedIn social media.  \n",
    "\n",
    "🌐 Visit your website for more courses [izlearn.ir](https://izlearn.ir)"
   ]
  }
 ],
 "metadata": {
  "kernelspec": {
   "display_name": "Python 3 (ipykernel)",
   "language": "python",
   "name": "python3"
  },
  "language_info": {
   "codemirror_mode": {
    "name": "ipython",
    "version": 3
   },
   "file_extension": ".py",
   "mimetype": "text/x-python",
   "name": "python",
   "nbconvert_exporter": "python",
   "pygments_lexer": "ipython3",
   "version": "3.9.5"
  }
 },
 "nbformat": 4,
 "nbformat_minor": 5
}
