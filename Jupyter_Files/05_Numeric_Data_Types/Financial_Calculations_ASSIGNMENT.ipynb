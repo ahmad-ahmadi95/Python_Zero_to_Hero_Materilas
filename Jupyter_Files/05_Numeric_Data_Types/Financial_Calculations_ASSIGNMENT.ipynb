{
 "cells": [
  {
   "cell_type": "markdown",
   "id": "28f071ec",
   "metadata": {},
   "source": [
    "## • Financial Calculations\n",
    "\n",
    "**Hi I'm Mohsen** as a financial planner at izshop!\n",
    "\n",
    "• This is [my website](https://mohsen-abbasi.ir/) if you need something in the acounting field!\n",
    "So Let's get back to my request form you as a Python programmer!\n",
    "\n",
    "• We know that <span style=\"color:blue;\">writing proper code can save a lot of time for us!</span> So I need your help calculating the following numbers?\n",
    "1. **Gross profit** from selling a black shoes! \n",
    "2. **Gross margin** from selling a black shoes! \n",
    "3. **Price** needed for gorss margin of 60%\n",
    "4. **Sales tax** on a black shoes sale\n",
    "5. **Amount of money** if the gross fit from selling *100 black shoes* is invested for on year"
   ]
  },
  {
   "cell_type": "code",
   "execution_count": null,
   "id": "ccb69e1d",
   "metadata": {},
   "outputs": [],
   "source": [
    "# 0. Creating Our Variables → Black shoes price & Black shoes cost in €\n",
    "blackshoes_price = 25\n",
    "blackshoes_cost = 18.32"
   ]
  },
  {
   "cell_type": "markdown",
   "id": "77310eb6",
   "metadata": {},
   "source": [
    "### 🤔 How Much Profit Do We Get? ( Percentage )"
   ]
  },
  {
   "cell_type": "code",
   "execution_count": null,
   "id": "ad3bb8f2",
   "metadata": {},
   "outputs": [],
   "source": [
    "# 0.1. How much profit do we get from selling a pair of black shoes in percent?\n",
    "\n",
    "# start here\n"
   ]
  },
  {
   "cell_type": "markdown",
   "id": "968b7a20",
   "metadata": {},
   "source": [
    "### 1. Calculate The Gross Profit\n",
    "\n",
    "🔸 **Formula** : Price minus Cost → `gross profit = price - cost`"
   ]
  },
  {
   "cell_type": "code",
   "execution_count": null,
   "id": "b3237e90",
   "metadata": {},
   "outputs": [],
   "source": [
    "# 1. Gross profit from selling a pair of black shoes? \n",
    "\n",
    "# start here \n",
    "\n",
    "\n",
    "gross_profit"
   ]
  },
  {
   "cell_type": "markdown",
   "id": "6494e34d",
   "metadata": {},
   "source": [
    "### 2. Calculate The Gross Margin\n",
    "\n",
    "🔸 **Formula** : Gross profit devided by price → `gross margin = gross profit / price` "
   ]
  },
  {
   "cell_type": "code",
   "execution_count": null,
   "id": "b44ccab1",
   "metadata": {},
   "outputs": [],
   "source": [
    "# 2. Gross margin from selling a pair of black shoes? \n",
    "\n",
    "# start here \n",
    "\n",
    "\n",
    "gross_margin"
   ]
  },
  {
   "cell_type": "code",
   "execution_count": null,
   "id": "030d7745",
   "metadata": {},
   "outputs": [],
   "source": [
    "# 2.1. Just run the cell and view the result\n",
    "\n",
    "print(f'The gross margin from selling a pair of black shoes is {gross_margin*100} %')\n",
    "print(f'The calculaion: {blackshoes_price} × {gross_margin} = {blackshoes_price*gross_margin} €')"
   ]
  },
  {
   "cell_type": "markdown",
   "id": "b22f043d",
   "metadata": {},
   "source": [
    "<div class=\"alert alert-info\">\n",
    "    🔸 Later on in the course, we'll learn how to use <b>f-string</b> in Python ✌🏼\n",
    "<div>"
   ]
  },
  {
   "cell_type": "markdown",
   "id": "3053c92c",
   "metadata": {},
   "source": [
    "### 3. Calculate The Price Needed to Obtain a Gross Margin of 60%\n",
    "\n",
    "🔸 **Formula** : cost divieded by (1 minus the desired margin) → `needed price = cost / (1 - desired margin)` "
   ]
  },
  {
   "cell_type": "code",
   "execution_count": null,
   "id": "d9f5dc6f",
   "metadata": {},
   "outputs": [],
   "source": [
    "# 3. Price needed for the gross margin of 60%?\n",
    "desired_margin = #\n",
    "\n",
    "# start here\n",
    "\n",
    "\n",
    "price_needed_for60"
   ]
  },
  {
   "cell_type": "markdown",
   "id": "d360e413",
   "metadata": {},
   "source": [
    "### 4. Calcualte The Sales Tax On Black Shoes Sale\n",
    "\n",
    "📝 tax rate = 10%\n",
    "\n",
    "🔸 **Formula** : price times tax rate → `sales tax = price * tax rate`"
   ]
  },
  {
   "cell_type": "code",
   "execution_count": null,
   "id": "deb9ec9d",
   "metadata": {},
   "outputs": [],
   "source": [
    "# 4. Sales tax on the black shoes? \n",
    "tax_rate = # \n",
    "\n",
    "# start here\n",
    "\n",
    "\n",
    "sales_tax"
   ]
  },
  {
   "cell_type": "markdown",
   "id": "d68f0399",
   "metadata": {},
   "source": [
    "### 5. Calculate the Amount of Money We'd Have If We Invested the Profit of Selling 100 `Black Shoes` For 1 Year\n",
    "\n",
    "📝 interest rate = 15%\n",
    "\n",
    "🔸 **Formula** : invested amount plus (invested amount times interest rate) → `money = invested amount + (invested amount * interest rate)`"
   ]
  },
  {
   "cell_type": "code",
   "execution_count": null,
   "id": "4e934a80",
   "metadata": {},
   "outputs": [],
   "source": [
    "# 5. Amoutn of money after 1 year? \n",
    "interest_rate =  # \n",
    "invested_money = #\n",
    "\n",
    "# start here \n",
    "\n",
    "\n",
    "money_after_1year"
   ]
  },
  {
   "cell_type": "markdown",
   "id": "d4ac8e67",
   "metadata": {},
   "source": [
    "## 6. Printing the results\n",
    "\n",
    "🔸 Using **print( )** function, show all of your calculations result to the screen!"
   ]
  },
  {
   "cell_type": "code",
   "execution_count": null,
   "id": "cec05de4",
   "metadata": {},
   "outputs": [],
   "source": [
    "# 6. Print the result\n",
    "print(gross_profit)\n",
    "print(gross_margin)\n",
    "print(price_needed_for60)\n",
    "print(sales_tax)\n",
    "print(money_after_1year)"
   ]
  },
  {
   "cell_type": "markdown",
   "id": "17d5a137",
   "metadata": {},
   "source": [
    "## 7. Extra Work : Show All Variables Created in This Notebook\n",
    "\n",
    "🔸 Use a proper magic commnad to show all created variables and their amounts"
   ]
  },
  {
   "cell_type": "code",
   "execution_count": null,
   "id": "166c2ac9",
   "metadata": {},
   "outputs": [],
   "source": [
    "# 7. Show All defined variables\n"
   ]
  },
  {
   "cell_type": "markdown",
   "id": "90e3f87c",
   "metadata": {},
   "source": [
    "---\n",
    "<a name=\"end\"></a>\n",
    "### Congrats! \n",
    "\n",
    "🔥 Let's go to the next session.\n",
    "\n",
    "📝 This Jupyter notebook has been created by [Ahmad Ahmadi](https://www.linkedin.com/in/ahmad-ahmadi95/). Please follow me and [izlearn](https://www.linkedin.com/company/izlearn) on LinkedIn social media.  \n",
    "\n",
    "🌐 Visit your website for more courses [izlearn.ir](https://izlearn.ir)"
   ]
  }
 ],
 "metadata": {
  "kernelspec": {
   "display_name": "Python 3 (ipykernel)",
   "language": "python",
   "name": "python3"
  },
  "language_info": {
   "codemirror_mode": {
    "name": "ipython",
    "version": 3
   },
   "file_extension": ".py",
   "mimetype": "text/x-python",
   "name": "python",
   "nbconvert_exporter": "python",
   "pygments_lexer": "ipython3",
   "version": "3.9.5"
  }
 },
 "nbformat": 4,
 "nbformat_minor": 5
}
