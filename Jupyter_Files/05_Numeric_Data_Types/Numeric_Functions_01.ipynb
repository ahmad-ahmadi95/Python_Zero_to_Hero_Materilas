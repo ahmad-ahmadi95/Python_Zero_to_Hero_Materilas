{
 "cells": [
  {
   "cell_type": "markdown",
   "id": "6da90a70",
   "metadata": {},
   "source": [
    "#### • Table of the content\n",
    "\n",
    "1. [round( ) function](#1)\n",
    "2. [abs( ) function](#2)\n",
    "3. [sum( ) function](#3)\n",
    "4. [max( ) function](#4)\n",
    "5. [min( ) function](#5)\n",
    "6. [The Power of These Functions](#6)\n",
    "6. [More Info (Follow Me on LinkedIn)](#end)\n",
    "---"
   ]
  },
  {
   "cell_type": "markdown",
   "id": "6ccf8a0a",
   "metadata": {},
   "source": [
    "## • Numeric Functions\n",
    "\n",
    "🔸 In this jupyter file, we want to learn how **round( )**, **abs( )**, **sum( )**, **min( )** and **max( )** work in Python. These numeric functions are called built-in functions because we didn't write their code."
   ]
  },
  {
   "cell_type": "code",
   "execution_count": 2,
   "id": "911ae413",
   "metadata": {},
   "outputs": [],
   "source": [
    "# Setting up variables\n",
    "pi_num = 3.141592\n",
    "\n",
    "\n",
    "# Ahmad, # Christiano # Lionel\n",
    "heights = [174, 189, 170]\n",
    "weights = (74, 85, 72)\n",
    "ages = {28, 38, 35}"
   ]
  },
  {
   "cell_type": "markdown",
   "id": "f1dc90d1",
   "metadata": {},
   "source": [
    "<a name=\"1\"></a>\n",
    "### 1. round(  )\n",
    "\n",
    "🔸 The **round( )** function rounds a number to a specified number of digits"
   ]
  },
  {
   "cell_type": "code",
   "execution_count": 6,
   "id": "bde6df2b",
   "metadata": {},
   "outputs": [
    {
     "data": {
      "text/plain": [
       "3.14"
      ]
     },
     "execution_count": 6,
     "metadata": {},
     "output_type": "execute_result"
    }
   ],
   "source": [
    "# 1.1. Round the \"3.141592\" or \"pi_num\" to 2 decimal places\n",
    "\n",
    "round(pi_num, 2)"
   ]
  },
  {
   "cell_type": "code",
   "execution_count": 7,
   "id": "4a6bd2d4",
   "metadata": {},
   "outputs": [
    {
     "data": {
      "text/plain": [
       "3"
      ]
     },
     "execution_count": 7,
     "metadata": {},
     "output_type": "execute_result"
    }
   ],
   "source": [
    "# 1.2. Round the \"3.141592\" or \"pi_num\" to the nearest integer (use round)\n",
    "\n",
    "round(pi_num)"
   ]
  },
  {
   "cell_type": "code",
   "execution_count": null,
   "id": "61b24268",
   "metadata": {},
   "outputs": [],
   "source": [
    "# 1.3. Round the \"9.51\" and \"9.50\" and \"9.49\" (use round)"
   ]
  },
  {
   "cell_type": "code",
   "execution_count": 8,
   "id": "cd81e618",
   "metadata": {},
   "outputs": [
    {
     "data": {
      "text/plain": [
       "10"
      ]
     },
     "execution_count": 8,
     "metadata": {},
     "output_type": "execute_result"
    }
   ],
   "source": [
    "# 1.3.1. \"9.51\" → round() function\n",
    "\n",
    "round(9.51)"
   ]
  },
  {
   "cell_type": "code",
   "execution_count": 9,
   "id": "629682d9",
   "metadata": {},
   "outputs": [
    {
     "data": {
      "text/plain": [
       "10"
      ]
     },
     "execution_count": 9,
     "metadata": {},
     "output_type": "execute_result"
    }
   ],
   "source": [
    "# 1.3.2 \"9.5\" → round() function\n",
    "\n",
    "round(9.5)"
   ]
  },
  {
   "cell_type": "code",
   "execution_count": 10,
   "id": "350c977c",
   "metadata": {},
   "outputs": [
    {
     "data": {
      "text/plain": [
       "9"
      ]
     },
     "execution_count": 10,
     "metadata": {},
     "output_type": "execute_result"
    }
   ],
   "source": [
    "# 1.3.3 \"9.49\" → round() function\n",
    "\n",
    "round(9.49)"
   ]
  },
  {
   "cell_type": "markdown",
   "id": "c406df82",
   "metadata": {},
   "source": [
    "🔸 Use <b style=\"color:purple;\">?</b> mark after the round function to learn more about it! (Do you remember this feature?)\n"
   ]
  },
  {
   "cell_type": "code",
   "execution_count": 11,
   "id": "d81884b2",
   "metadata": {},
   "outputs": [],
   "source": [
    "# 1.4. Use \"?\" to see the \"round\" documentation in jupyter\n",
    "\n",
    "round?"
   ]
  },
  {
   "cell_type": "markdown",
   "id": "c8cb905b",
   "metadata": {},
   "source": [
    "<a name=\"2\"></a>\n",
    "### 2. abs(  )\n",
    "\n",
    "🔸 The **abs( )** function returns the absolute value of a specified number"
   ]
  },
  {
   "cell_type": "code",
   "execution_count": 14,
   "id": "40568729",
   "metadata": {},
   "outputs": [
    {
     "data": {
      "text/plain": [
       "7"
      ]
     },
     "execution_count": 14,
     "metadata": {},
     "output_type": "execute_result"
    }
   ],
   "source": [
    "# 2.1. Return the positive value of \"-7\" using \"abs\" function\n",
    "\n",
    "abs(-7)"
   ]
  },
  {
   "cell_type": "markdown",
   "id": "e801e2fe",
   "metadata": {},
   "source": [
    "<a name=\"3\"></a>\n",
    "### 3. sum( )\n",
    "\n",
    "🔸 The **sum( )** function adds up all elements in an iterable"
   ]
  },
  {
   "cell_type": "code",
   "execution_count": 15,
   "id": "b8db8bac",
   "metadata": {},
   "outputs": [
    {
     "data": {
      "text/plain": [
       "533"
      ]
     },
     "execution_count": 15,
     "metadata": {},
     "output_type": "execute_result"
    }
   ],
   "source": [
    "# 3.1. Sum all the items in the \"heights\" \n",
    "# 3.2. heights → [174, 189, 170]\n",
    "\n",
    "sum(heights)"
   ]
  },
  {
   "cell_type": "code",
   "execution_count": 16,
   "id": "a9a3c873",
   "metadata": {},
   "outputs": [
    {
     "data": {
      "text/plain": [
       "231"
      ]
     },
     "execution_count": 16,
     "metadata": {},
     "output_type": "execute_result"
    }
   ],
   "source": [
    "# 3.4. Sum all the items in the \"weights\"\n",
    "# 3.5. weights → (74, 85, 72)\n",
    "\n",
    "sum(weights)"
   ]
  },
  {
   "cell_type": "markdown",
   "id": "4c2bbae6",
   "metadata": {},
   "source": [
    "<a name=\"4\"></a>\n",
    "### 4. max( )\n",
    "\n",
    "🔸 The **max( )** function returns the largest value in an iterable"
   ]
  },
  {
   "cell_type": "code",
   "execution_count": 17,
   "id": "5037e2f0",
   "metadata": {},
   "outputs": [
    {
     "data": {
      "text/plain": [
       "189"
      ]
     },
     "execution_count": 17,
     "metadata": {},
     "output_type": "execute_result"
    }
   ],
   "source": [
    "# 4.1. Return the largest value in the \"heights\" \n",
    "# 4.2. heights → [174, 189, 170]\n",
    "\n",
    "max(heights)"
   ]
  },
  {
   "cell_type": "code",
   "execution_count": 18,
   "id": "c5fc7e21",
   "metadata": {},
   "outputs": [
    {
     "data": {
      "text/plain": [
       "38"
      ]
     },
     "execution_count": 18,
     "metadata": {},
     "output_type": "execute_result"
    }
   ],
   "source": [
    "# 4.3. Return the largest value in the \"ages\"\n",
    "# 4.4. ages → {28, 38, 35}\n",
    "\n",
    "max(ages)"
   ]
  },
  {
   "cell_type": "markdown",
   "id": "41994820",
   "metadata": {},
   "source": [
    "<a name=\"5\"></a>\n",
    "### 5. min( )\n",
    "\n",
    "🔸 The **min( )** function returns the smallest value in an iterable"
   ]
  },
  {
   "cell_type": "code",
   "execution_count": 19,
   "id": "00502826",
   "metadata": {},
   "outputs": [
    {
     "data": {
      "text/plain": [
       "72"
      ]
     },
     "execution_count": 19,
     "metadata": {},
     "output_type": "execute_result"
    }
   ],
   "source": [
    "# 5.1. Return the smallest value in the \"weights\"\n",
    "# 5.2. weights → (74, 85, 72)\n",
    "\n",
    "min(weights)"
   ]
  },
  {
   "cell_type": "markdown",
   "id": "a8276a33",
   "metadata": {},
   "source": [
    "<div class=\"alert alert-danger\">\n",
    "\n",
    "🤔 What would happend if you pass a <u>single value</u> into the functions like <b>sum( )</b>, <b>min( )</b>, <b>max( )</b> ? \n",
    "give it a shot! and share your result in the group/comment. \n",
    " \n",
    "</div>\n",
    "\n",
    "```python\n",
    "print(max(5))\n",
    "\n",
    "```\n",
    "Run the cell above in your jupyter environment and share the result! "
   ]
  },
  {
   "cell_type": "markdown",
   "id": "3542ad4d",
   "metadata": {},
   "source": [
    "<a name=\"6\"></a>\n",
    "### 6. The Power of These Functions\n",
    "\n",
    "🔸 The true power of using these functions emerges when you're using **really large dataset**. Suppose that I have a large list; including the price of izshop products. Then I feel the need to quickly find the `sum of whole prices` and `minimum` and `maximum` of all items. Using these built-in functions we can quickly achieve that."
   ]
  },
  {
   "cell_type": "code",
   "execution_count": 21,
   "id": "75f17260",
   "metadata": {},
   "outputs": [],
   "source": [
    "# 6.1. Run the cell to create the \"price_lst\"\n",
    "price_lst = [\n",
    "    39, 52, 12, 35, 18,\n",
    "    18, 18, 25, 18, 8, \n",
    "    8, 8, 35, 20, 28,\n",
    "    37, 14, 5, 10, 25,\n",
    "    3, 12, 7, 56, 11,\n",
    "    21, 9, 12, 6, 23,\n",
    "    11, 10, 3, 5, 10,\n",
    "    20, 15, 10, 12, 7,\n",
    "    44, 32, 11, 5, 9,\n",
    "    15, 22, 18, 6, 14\n",
    "]"
   ]
  },
  {
   "cell_type": "code",
   "execution_count": null,
   "id": "36471c04",
   "metadata": {},
   "outputs": [],
   "source": [
    "# 6.2. Calculate the total, the largest and the smallest price in the list"
   ]
  },
  {
   "cell_type": "code",
   "execution_count": 22,
   "id": "b1904fe0",
   "metadata": {},
   "outputs": [
    {
     "data": {
      "text/plain": [
       "872"
      ]
     },
     "execution_count": 22,
     "metadata": {},
     "output_type": "execute_result"
    }
   ],
   "source": [
    "# 6.2.1 The total price? \n",
    "\n",
    "sum(price_lst)"
   ]
  },
  {
   "cell_type": "code",
   "execution_count": 23,
   "id": "c79ede15",
   "metadata": {},
   "outputs": [
    {
     "data": {
      "text/plain": [
       "56"
      ]
     },
     "execution_count": 23,
     "metadata": {},
     "output_type": "execute_result"
    }
   ],
   "source": [
    "# 6.2.2 The largest price?\n",
    "\n",
    "max(price_lst)"
   ]
  },
  {
   "cell_type": "code",
   "execution_count": 24,
   "id": "3d133d43",
   "metadata": {},
   "outputs": [
    {
     "data": {
      "text/plain": [
       "3"
      ]
     },
     "execution_count": 24,
     "metadata": {},
     "output_type": "execute_result"
    }
   ],
   "source": [
    "# 6.2.3 The smallest price?\n",
    "\n",
    "min(price_lst)"
   ]
  },
  {
   "cell_type": "markdown",
   "id": "374e03d2",
   "metadata": {},
   "source": [
    "---\n",
    "<a name=\"end\"></a>\n",
    "### Congrats! \n",
    "\n",
    "🔥 Let's go to the next session.\n",
    "\n",
    "📝 This Jupyter notebook has been created by [Ahmad Ahmadi](https://www.linkedin.com/in/ahmad-ahmadi95/). Please follow me and [izlearn](https://www.linkedin.com/company/izlearn) on LinkedIn social media.  \n",
    "\n",
    "🌐 Visit your website for more courses [izlearn.ir](https://izlearn.ir)"
   ]
  }
 ],
 "metadata": {
  "kernelspec": {
   "display_name": "Python 3 (ipykernel)",
   "language": "python",
   "name": "python3"
  },
  "language_info": {
   "codemirror_mode": {
    "name": "ipython",
    "version": 3
   },
   "file_extension": ".py",
   "mimetype": "text/x-python",
   "name": "python",
   "nbconvert_exporter": "python",
   "pygments_lexer": "ipython3",
   "version": "3.9.5"
  }
 },
 "nbformat": 4,
 "nbformat_minor": 5
}
