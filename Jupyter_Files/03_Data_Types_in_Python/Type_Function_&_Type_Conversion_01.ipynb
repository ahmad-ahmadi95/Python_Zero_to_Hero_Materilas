{
 "cells": [
  {
   "cell_type": "markdown",
   "id": "27b60f6a",
   "metadata": {},
   "source": [
    "#### • Table of the content\n",
    "\n",
    "1. [Type Function](#1)\n",
    "2. [Type Conversion](#2)\n",
    "3. [More Info (Follow Me on LinkedIn)](#end)\n",
    "---"
   ]
  },
  {
   "cell_type": "markdown",
   "id": "f75c0edc",
   "metadata": {},
   "source": [
    "<a name=\"1\"></a>\n",
    "## ✔️ Type Function\n",
    "\n",
    "To show the **data type** of an object in Python, we can use the **type()** function. For the sake of an example, if a variable has the number **3.14** in itself, using **type(3.14)** or **type(variable_name)** we can understand its type is <span style='color:green;font-family:consolas;font-weight:bold'>float</span>.\n",
    "\n",
    "- To read more about type function, check [this resource](https://www.w3schools.com/python/ref_func_type.asp)\n",
    "\n",
    "- We will talk about **variable** in the very next section of the course. 🙂"
   ]
  },
  {
   "cell_type": "code",
   "execution_count": 1,
   "id": "499a2353",
   "metadata": {},
   "outputs": [
    {
     "data": {
      "text/plain": [
       "int"
      ]
     },
     "execution_count": 1,
     "metadata": {},
     "output_type": "execute_result"
    }
   ],
   "source": [
    "# 1. Use type function for --> 5\n",
    "\n",
    "type(5)"
   ]
  },
  {
   "cell_type": "code",
   "execution_count": 2,
   "id": "ee584f63",
   "metadata": {},
   "outputs": [
    {
     "data": {
      "text/plain": [
       "float"
      ]
     },
     "execution_count": 2,
     "metadata": {},
     "output_type": "execute_result"
    }
   ],
   "source": [
    "# 2. Use type function for --> 3.14\n",
    "\n",
    "type(3.14)"
   ]
  },
  {
   "cell_type": "code",
   "execution_count": 3,
   "id": "7e4cfe45",
   "metadata": {},
   "outputs": [
    {
     "data": {
      "text/plain": [
       "str"
      ]
     },
     "execution_count": 3,
     "metadata": {},
     "output_type": "execute_result"
    }
   ],
   "source": [
    "# 3. Use type function for --> 'izshop'\n",
    "\n",
    "type('izshop')"
   ]
  },
  {
   "cell_type": "code",
   "execution_count": 5,
   "id": "8712e846",
   "metadata": {},
   "outputs": [
    {
     "data": {
      "text/plain": [
       "str"
      ]
     },
     "execution_count": 5,
     "metadata": {},
     "output_type": "execute_result"
    }
   ],
   "source": [
    "# 4. Use type function for --> '3.14'\n",
    "\n",
    "type('3.14')"
   ]
  },
  {
   "cell_type": "code",
   "execution_count": 6,
   "id": "cfdfe1f6",
   "metadata": {},
   "outputs": [
    {
     "data": {
      "text/plain": [
       "list"
      ]
     },
     "execution_count": 6,
     "metadata": {},
     "output_type": "execute_result"
    }
   ],
   "source": [
    "# 5. Use type function for --> [5, 3.14, 'izshop']\n",
    "\n",
    "type([5, 3.14, 'izshop'])"
   ]
  },
  {
   "cell_type": "code",
   "execution_count": 8,
   "id": "35caf538",
   "metadata": {},
   "outputs": [],
   "source": [
    "# 6. Using a varialbe: --> Next section we'll cover \"variables\" topic.\n",
    "\n",
    "my_data = 5\n",
    "my_data_type = type(5)"
   ]
  },
  {
   "cell_type": "code",
   "execution_count": 9,
   "id": "09970392",
   "metadata": {},
   "outputs": [
    {
     "name": "stdout",
     "output_type": "stream",
     "text": [
      "5 <class 'int'>\n"
     ]
    }
   ],
   "source": [
    "# 6.1 Use print to show --> my_data, my_data_type\n",
    "\n",
    "print(my_data, my_data_type)"
   ]
  },
  {
   "cell_type": "markdown",
   "id": "084c110a",
   "metadata": {},
   "source": [
    "<div class=\"alert alert-success\">\n",
    "    \n",
    "🔔 It's generally very obvious what the data types are going to be in the above examples. Because we know what we're typing, but <u>as we start building more complicated code</u>, we might generate data types that <b>we're not sure what data types they include</b>. \n",
    "    \n",
    "</div>"
   ]
  },
  {
   "cell_type": "markdown",
   "id": "d3ecc94e",
   "metadata": {},
   "source": [
    "---\n",
    "<a name=\"2\"></a>\n",
    "## ✔️ Type Conversion\n",
    "\n",
    "As the name suggests, to convert from one data type to another, we can use some built-in functions in Python. For example, to convert a floating point number to an integer, It's possible to use the <span style='color:green;font-family:consolas;font-weight:bold'>int</span>() function. \n",
    "\n",
    "These functions are listed below.\n",
    "\n",
    "1. int()\n",
    "2. float()\n",
    "3. str()\n",
    "4. bool()\n",
    "5. list()\n",
    "6. dict()\n",
    "7. tuple()\n",
    "8. set()\n",
    "\n",
    "The general rule for these conversions are: **`name of data type(object)`**"
   ]
  },
  {
   "cell_type": "code",
   "execution_count": 10,
   "id": "3333c5b5",
   "metadata": {},
   "outputs": [
    {
     "data": {
      "text/plain": [
       "5.0"
      ]
     },
     "execution_count": 10,
     "metadata": {},
     "output_type": "execute_result"
    }
   ],
   "source": [
    "# 7. Convert integer 5 --> float\n",
    "\n",
    "float(5)"
   ]
  },
  {
   "cell_type": "code",
   "execution_count": 11,
   "id": "912ed7a2",
   "metadata": {},
   "outputs": [
    {
     "data": {
      "text/plain": [
       "3"
      ]
     },
     "execution_count": 11,
     "metadata": {},
     "output_type": "execute_result"
    }
   ],
   "source": [
    "# 8. Convert float 3.14 --> integer\n",
    "\n",
    "int(3.14)"
   ]
  },
  {
   "cell_type": "code",
   "execution_count": 12,
   "id": "4947a432",
   "metadata": {},
   "outputs": [
    {
     "data": {
      "text/plain": [
       "25"
      ]
     },
     "execution_count": 12,
     "metadata": {},
     "output_type": "execute_result"
    }
   ],
   "source": [
    "# 9. Convert string '25' --> integer\n",
    "\n",
    "int('25')"
   ]
  },
  {
   "cell_type": "code",
   "execution_count": 13,
   "id": "b1b9f8d1",
   "metadata": {},
   "outputs": [
    {
     "ename": "ValueError",
     "evalue": "invalid literal for int() with base 10: 'izshop'",
     "output_type": "error",
     "traceback": [
      "\u001b[1;31m----------------------------------------------------------------\u001b[0m",
      "\u001b[1;31mValueError\u001b[0m                     Traceback (most recent call last)",
      "Cell \u001b[1;32mIn[13], line 3\u001b[0m\n\u001b[0;32m      1\u001b[0m \u001b[38;5;66;03m# 10. Convert string 'izshop' --> integer\u001b[39;00m\n\u001b[1;32m----> 3\u001b[0m \u001b[38;5;28;43mint\u001b[39;49m\u001b[43m(\u001b[49m\u001b[38;5;124;43m'\u001b[39;49m\u001b[38;5;124;43mizshop\u001b[39;49m\u001b[38;5;124;43m'\u001b[39;49m\u001b[43m)\u001b[49m\n",
      "\u001b[1;31mValueError\u001b[0m: invalid literal for int() with base 10: 'izshop'"
     ]
    }
   ],
   "source": [
    "# 10. Convert string 'izshop' --> integer\n",
    "\n",
    "int('izshop')"
   ]
  },
  {
   "cell_type": "code",
   "execution_count": 14,
   "id": "6bc44d1e",
   "metadata": {},
   "outputs": [
    {
     "ename": "TypeError",
     "evalue": "int() argument must be a string, a bytes-like object or a number, not 'list'",
     "output_type": "error",
     "traceback": [
      "\u001b[1;31m----------------------------------------------------------------\u001b[0m",
      "\u001b[1;31mTypeError\u001b[0m                      Traceback (most recent call last)",
      "Cell \u001b[1;32mIn[14], line 3\u001b[0m\n\u001b[0;32m      1\u001b[0m \u001b[38;5;66;03m# 11. Convert [1, 2, 3] --> integer\u001b[39;00m\n\u001b[1;32m----> 3\u001b[0m \u001b[38;5;28;43mint\u001b[39;49m\u001b[43m(\u001b[49m\u001b[43m[\u001b[49m\u001b[38;5;241;43m1\u001b[39;49m\u001b[43m,\u001b[49m\u001b[43m \u001b[49m\u001b[38;5;241;43m2\u001b[39;49m\u001b[43m,\u001b[49m\u001b[43m \u001b[49m\u001b[38;5;241;43m3\u001b[39;49m\u001b[43m]\u001b[49m\u001b[43m)\u001b[49m\n",
      "\u001b[1;31mTypeError\u001b[0m: int() argument must be a string, a bytes-like object or a number, not 'list'"
     ]
    }
   ],
   "source": [
    "# 11. Convert [1, 2, 3] --> integer\n",
    "\n",
    "int([1, 2, 3])"
   ]
  },
  {
   "cell_type": "code",
   "execution_count": 15,
   "id": "b0e53b5d",
   "metadata": {},
   "outputs": [
    {
     "data": {
      "text/plain": [
       "(1, 2, 3)"
      ]
     },
     "execution_count": 15,
     "metadata": {},
     "output_type": "execute_result"
    }
   ],
   "source": [
    "# 12. Convert [1, 2, 3] --> tuple \n",
    "\n",
    "tuple([1, 2, 3])"
   ]
  },
  {
   "cell_type": "markdown",
   "id": "071014fc",
   "metadata": {},
   "source": [
    "---\n",
    "<a name=\"end\"></a>\n",
    "### Congrats! \n",
    "\n",
    "🔥 Let's go to the next session.\n",
    "\n",
    "📝 This Jupyter notebook has been created by [Ahmad Ahmadi](https://www.linkedin.com/in/ahmad-ahmadi95/). Please follow me and [izlearn](https://www.linkedin.com/company/izlearn) on LinkedIn social media.  \n",
    "\n",
    "🌐 Visit your website for more courses [izlearn.ir](https://izlearn.ir)"
   ]
  }
 ],
 "metadata": {
  "kernelspec": {
   "display_name": "Python 3 (ipykernel)",
   "language": "python",
   "name": "python3"
  },
  "language_info": {
   "codemirror_mode": {
    "name": "ipython",
    "version": 3
   },
   "file_extension": ".py",
   "mimetype": "text/x-python",
   "name": "python",
   "nbconvert_exporter": "python",
   "pygments_lexer": "ipython3",
   "version": "3.9.5"
  }
 },
 "nbformat": 4,
 "nbformat_minor": 5
}
