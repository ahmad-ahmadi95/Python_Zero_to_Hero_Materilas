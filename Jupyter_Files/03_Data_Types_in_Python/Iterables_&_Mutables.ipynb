{
 "cells": [
  {
   "cell_type": "markdown",
   "id": "e446b7ac",
   "metadata": {},
   "source": [
    "## • Iterables \n",
    "\n",
    "We can iterate over or looped through some data types in Python. These data types are **strings**, **lists**, **range**, **tuple**, **sets**.\n",
    "\n",
    "Let's see some examples\n",
    "\n",
    "---"
   ]
  },
  {
   "cell_type": "markdown",
   "id": "84e7dc8b",
   "metadata": {},
   "source": [
    "### ° Strings\n",
    "\n",
    "Although strings are simple data type but we can loop through each individual characters."
   ]
  },
  {
   "cell_type": "code",
   "execution_count": 1,
   "id": "307cfab7",
   "metadata": {},
   "outputs": [
    {
     "name": "stdout",
     "output_type": "stream",
     "text": [
      "1\n",
      "2\n",
      "3\n",
      "4\n",
      "5\n"
     ]
    }
   ],
   "source": [
    "for char in '12345':\n",
    "    print(char)"
   ]
  },
  {
   "cell_type": "markdown",
   "id": "fad4f360",
   "metadata": {},
   "source": [
    "---\n",
    "### ° Lists\n",
    "\n",
    "We can looped through each item in a list. "
   ]
  },
  {
   "cell_type": "code",
   "execution_count": 2,
   "id": "69862fe0",
   "metadata": {},
   "outputs": [
    {
     "name": "stdout",
     "output_type": "stream",
     "text": [
      "1\n",
      "3.14\n",
      "izlearn & izshop\n"
     ]
    }
   ],
   "source": [
    "for item in [1, 3.14, 'izlearn & izshop']:\n",
    "    print(item)"
   ]
  },
  {
   "cell_type": "markdown",
   "id": "7096f7a6",
   "metadata": {},
   "source": [
    "### ° Tuples\n",
    "\n",
    "We can loop through each item in a tuple. "
   ]
  },
  {
   "cell_type": "code",
   "execution_count": 3,
   "id": "b23ee049",
   "metadata": {},
   "outputs": [
    {
     "name": "stdout",
     "output_type": "stream",
     "text": [
      "0\n",
      "100\n",
      "1000\n"
     ]
    }
   ],
   "source": [
    "for item in (0, 100, 1000):\n",
    "    print(item)"
   ]
  },
  {
   "cell_type": "markdown",
   "id": "1e39dea6",
   "metadata": {},
   "source": [
    "### ° Range\n",
    "\n",
    "We can loop through each item in a range object. "
   ]
  },
  {
   "cell_type": "code",
   "execution_count": 4,
   "id": "32f6e5e0",
   "metadata": {},
   "outputs": [
    {
     "name": "stdout",
     "output_type": "stream",
     "text": [
      "0\n",
      "1\n",
      "2\n",
      "3\n",
      "4\n"
     ]
    }
   ],
   "source": [
    "for i in range(0, 5):\n",
    "    print(i)"
   ]
  },
  {
   "cell_type": "markdown",
   "id": "10b627ae",
   "metadata": {},
   "source": [
    "### ° Dictionary\n",
    "\n",
    "We can loop through each item in a dictionary. "
   ]
  },
  {
   "cell_type": "code",
   "execution_count": 5,
   "id": "69c903dc",
   "metadata": {},
   "outputs": [
    {
     "name": "stdout",
     "output_type": "stream",
     "text": [
      "Black Cap 10\n",
      "Grey Dress 35\n"
     ]
    }
   ],
   "source": [
    "for key, value in {'Black Cap':10, 'Grey Dress':35}.items():\n",
    "    print(key, value)"
   ]
  },
  {
   "cell_type": "markdown",
   "id": "0fd8095e",
   "metadata": {},
   "source": [
    "### ° Sets\n",
    "\n",
    "We can loop through each item in a set. "
   ]
  },
  {
   "cell_type": "code",
   "execution_count": 6,
   "id": "322fa5d8",
   "metadata": {},
   "outputs": [
    {
     "name": "stdout",
     "output_type": "stream",
     "text": [
      "0\n",
      "10\n",
      "100\n"
     ]
    }
   ],
   "source": [
    "for item in {0, 10, 100}:\n",
    "    print(item)"
   ]
  },
  {
   "cell_type": "markdown",
   "id": "dd598a88",
   "metadata": {},
   "source": [
    "### ° Float!\n",
    "\n",
    "But we <span style='color:darkred;font-weight:bold;'>can't</span> loop through integers, floats. "
   ]
  },
  {
   "cell_type": "code",
   "execution_count": 7,
   "id": "c67a1ada",
   "metadata": {},
   "outputs": [
    {
     "ename": "TypeError",
     "evalue": "'int' object is not iterable",
     "output_type": "error",
     "traceback": [
      "\u001b[1;31m----------------------------------------------------------------\u001b[0m",
      "\u001b[1;31mTypeError\u001b[0m                      Traceback (most recent call last)",
      "Cell \u001b[1;32mIn[7], line 2\u001b[0m\n\u001b[0;32m      1\u001b[0m \u001b[38;5;66;03m# But we can't loop through int, float!\u001b[39;00m\n\u001b[1;32m----> 2\u001b[0m \u001b[38;5;28;01mfor\u001b[39;00m number \u001b[38;5;129;01min\u001b[39;00m \u001b[38;5;241m3\u001b[39m:\n\u001b[0;32m      3\u001b[0m     \u001b[38;5;28mprint\u001b[39m(number)\n",
      "\u001b[1;31mTypeError\u001b[0m: 'int' object is not iterable"
     ]
    }
   ],
   "source": [
    "# But we can't loop through int, float!\n",
    "for number in 3:\n",
    "    print(number)"
   ]
  },
  {
   "cell_type": "markdown",
   "id": "83c56db5",
   "metadata": {},
   "source": [
    "## • Mutables \n",
    "\n",
    "Mutable data types are those we're able to change after their creation. Immutable data types are those we can't change them.\n",
    "\n",
    "Let's see some examples\n",
    "\n",
    "---"
   ]
  },
  {
   "cell_type": "code",
   "execution_count": 8,
   "id": "091239ad",
   "metadata": {},
   "outputs": [
    {
     "data": {
      "text/plain": [
       "[1, 2, 3]"
      ]
     },
     "execution_count": 8,
     "metadata": {},
     "output_type": "execute_result"
    }
   ],
   "source": [
    "my_list = [1, 2, 3]\n",
    "\n",
    "my_list"
   ]
  },
  {
   "cell_type": "code",
   "execution_count": 9,
   "id": "a6c2133e",
   "metadata": {},
   "outputs": [
    {
     "data": {
      "text/plain": [
       "[1, 2, 3, -1]"
      ]
     },
     "execution_count": 9,
     "metadata": {},
     "output_type": "execute_result"
    }
   ],
   "source": [
    "# Adding an item to a list\n",
    "\n",
    "my_list.append(-1)\n",
    "\n",
    "my_list"
   ]
  },
  {
   "cell_type": "code",
   "execution_count": 10,
   "id": "2eb7826d",
   "metadata": {},
   "outputs": [
    {
     "data": {
      "text/plain": [
       "[1, 2, 3]"
      ]
     },
     "execution_count": 10,
     "metadata": {},
     "output_type": "execute_result"
    }
   ],
   "source": [
    "# Removing an item from a list\n",
    "\n",
    "my_list.pop()\n",
    "\n",
    "my_list"
   ]
  },
  {
   "cell_type": "code",
   "execution_count": 11,
   "id": "373b3657",
   "metadata": {},
   "outputs": [
    {
     "data": {
      "text/plain": [
       "[100, 2, 3]"
      ]
     },
     "execution_count": 11,
     "metadata": {},
     "output_type": "execute_result"
    }
   ],
   "source": [
    "my_list[0] = 100\n",
    "\n",
    "my_list"
   ]
  },
  {
   "cell_type": "markdown",
   "id": "2a3ae92f",
   "metadata": {},
   "source": [
    "## • Immutables \n",
    "\n",
    "Immutable data types can not be modified after creation. To change them you need to delete and recreate them again. \n",
    "\n",
    "Let's see some examples\n",
    "\n",
    "---"
   ]
  },
  {
   "cell_type": "code",
   "execution_count": 12,
   "id": "c73a8b77",
   "metadata": {},
   "outputs": [
    {
     "data": {
      "text/plain": [
       "5"
      ]
     },
     "execution_count": 12,
     "metadata": {},
     "output_type": "execute_result"
    }
   ],
   "source": [
    "# Integers are immutable\n",
    "\n",
    "a = 5   # Change it to 5\n",
    "\n",
    "a"
   ]
  },
  {
   "cell_type": "code",
   "execution_count": 13,
   "id": "a6d85401",
   "metadata": {},
   "outputs": [
    {
     "ename": "TypeError",
     "evalue": "'str' object does not support item assignment",
     "output_type": "error",
     "traceback": [
      "\u001b[1;31m----------------------------------------------------------------\u001b[0m",
      "\u001b[1;31mTypeError\u001b[0m                      Traceback (most recent call last)",
      "Cell \u001b[1;32mIn[13], line 4\u001b[0m\n\u001b[0;32m      1\u001b[0m \u001b[38;5;66;03m# Strings are immutable\u001b[39;00m\n\u001b[0;32m      3\u001b[0m my_string \u001b[38;5;241m=\u001b[39m \u001b[38;5;124m'\u001b[39m\u001b[38;5;124mizshop\u001b[39m\u001b[38;5;124m'\u001b[39m \u001b[38;5;66;03m# Change 'i' to 'I'\u001b[39;00m\n\u001b[1;32m----> 4\u001b[0m \u001b[43mmy_string\u001b[49m\u001b[43m[\u001b[49m\u001b[38;5;241;43m0\u001b[39;49m\u001b[43m]\u001b[49m \u001b[38;5;241m=\u001b[39m \u001b[38;5;124m'\u001b[39m\u001b[38;5;124mI\u001b[39m\u001b[38;5;124m'\u001b[39m\n",
      "\u001b[1;31mTypeError\u001b[0m: 'str' object does not support item assignment"
     ]
    }
   ],
   "source": [
    "# Strings are immutable\n",
    "\n",
    "my_string = 'izshop' # Change 'i' to 'I'\n",
    "my_string[0] = 'I'"
   ]
  },
  {
   "cell_type": "code",
   "execution_count": 14,
   "id": "0e551c37",
   "metadata": {},
   "outputs": [
    {
     "data": {
      "text/plain": [
       "(1, 2, 3)"
      ]
     },
     "execution_count": 14,
     "metadata": {},
     "output_type": "execute_result"
    }
   ],
   "source": [
    "# Tuples are immutable \n",
    "my_tuple = (1, 2, 3)\n",
    "\n",
    "my_tuple"
   ]
  },
  {
   "cell_type": "code",
   "execution_count": 15,
   "id": "ca9829a3",
   "metadata": {},
   "outputs": [
    {
     "ename": "TypeError",
     "evalue": "'tuple' object does not support item assignment",
     "output_type": "error",
     "traceback": [
      "\u001b[1;31m----------------------------------------------------------------\u001b[0m",
      "\u001b[1;31mTypeError\u001b[0m                      Traceback (most recent call last)",
      "Cell \u001b[1;32mIn[15], line 1\u001b[0m\n\u001b[1;32m----> 1\u001b[0m \u001b[43mmy_tuple\u001b[49m\u001b[43m[\u001b[49m\u001b[38;5;241;43m0\u001b[39;49m\u001b[43m]\u001b[49m \u001b[38;5;241m=\u001b[39m \u001b[38;5;241m100\u001b[39m\n\u001b[0;32m      3\u001b[0m my_tuple\n",
      "\u001b[1;31mTypeError\u001b[0m: 'tuple' object does not support item assignment"
     ]
    }
   ],
   "source": [
    "my_tuple[0] = 100\n",
    "\n",
    "my_tuple"
   ]
  },
  {
   "cell_type": "code",
   "execution_count": 16,
   "id": "eb602403",
   "metadata": {},
   "outputs": [
    {
     "data": {
      "text/plain": [
       "(100, 2, 3)"
      ]
     },
     "execution_count": 16,
     "metadata": {},
     "output_type": "execute_result"
    }
   ],
   "source": [
    "# To change immutables --> You need to recreate them!\n",
    "my_tuple = (100, 2, 3)\n",
    "\n",
    "my_tuple"
   ]
  }
 ],
 "metadata": {
  "kernelspec": {
   "display_name": "Python 3 (ipykernel)",
   "language": "python",
   "name": "python3"
  },
  "language_info": {
   "codemirror_mode": {
    "name": "ipython",
    "version": 3
   },
   "file_extension": ".py",
   "mimetype": "text/x-python",
   "name": "python",
   "nbconvert_exporter": "python",
   "pygments_lexer": "ipython3",
   "version": "3.9.5"
  }
 },
 "nbformat": 4,
 "nbformat_minor": 5
}
